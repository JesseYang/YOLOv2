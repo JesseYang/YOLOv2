{
 "cells": [
  {
   "cell_type": "code",
   "execution_count": 129,
   "metadata": {
    "collapsed": true
   },
   "outputs": [],
   "source": [
    "import numpy as np\n",
    "import cv2\n",
    "import os\n",
    "import uuid\n",
    "import math\n",
    "from IPython.core.debugger import Tracer\n",
    "from scipy import misc"
   ]
  },
  {
   "cell_type": "code",
   "execution_count": null,
   "metadata": {
    "collapsed": true
   },
   "outputs": [],
   "source": []
  },
  {
   "cell_type": "code",
   "execution_count": 130,
   "metadata": {
    "collapsed": true
   },
   "outputs": [],
   "source": [
    "# INITIALIZATION"
   ]
  },
  {
   "cell_type": "code",
   "execution_count": 131,
   "metadata": {
    "collapsed": false
   },
   "outputs": [],
   "source": [
    "video_filename = 'archive/data2/input_video/800x450/IMG_0025.avi'\n",
    "label_filename = 'archive/data2/video_for_segmentation/IMG_0025.txt'\n",
    "\n",
    "fps = 25\n",
    "frame_num = 20\n",
    "show_width = 800\n",
    "show_height = 450\n",
    "fix_frame_num = 80\n",
    "center_width = show_width / 2\n",
    "center_height = show_height / 2\n",
    "\n",
    "with open(label_filename) as f:\n",
    "    content = f.readlines()\n",
    "\n",
    "cap = cv2.VideoCapture(video_filename)\n",
    "\n",
    "frame_count = int(cap.get(cv2.CAP_PROP_FRAME_COUNT))\n",
    "width = int(cap.get(cv2.CAP_PROP_FRAME_WIDTH))\n",
    "height = int(cap.get(cv2.CAP_PROP_FRAME_HEIGHT))\n",
    "label_result = [-1] * frame_count\n",
    "# fps = cap.get(cv2.CAP_PROP_FPS)\n",
    "\n",
    "internal = 1000 / fps\n",
    "internal_ary = [int(internal), int(internal * 2), int(internal * 4)]\n",
    "internal_idx = 0\n",
    "frame_idx = 0\n",
    "\n",
    "name = 'demo_video.avi'\n",
    "font = cv2.FONT_HERSHEY_SIMPLEX\n",
    "fourcc = cv2.VideoWriter_fourcc(*'XVID')\n",
    "out = cv2.VideoWriter(name, fourcc, 25, (show_width, show_height))"
   ]
  },
  {
   "cell_type": "code",
   "execution_count": null,
   "metadata": {
    "collapsed": true
   },
   "outputs": [],
   "source": []
  },
  {
   "cell_type": "code",
   "execution_count": 132,
   "metadata": {
    "collapsed": true
   },
   "outputs": [],
   "source": [
    "def insert_title(frame, title_idx):\n",
    "    title_img = misc.imread(\"title_\" + str(title_idx) + \".png\", mode='RGB')\n",
    "    height, width, _ = title_img.shape\n",
    "    convert_title = np.zeros((height, width, 3), dtype=np.uint8)\n",
    "    convert_title[:,:,0] = title_img[:,:,2]\n",
    "    convert_title[:,:,1] = title_img[:,:,1]\n",
    "    convert_title[:,:,2] = title_img[:,:,0]\n",
    "    start_height = center_height - height / 2\n",
    "    start_width = center_width - width / 2\n",
    "    frame[start_height:start_height + height, start_width:start_width + width, :] = convert_title\n",
    "    return frame"
   ]
  },
  {
   "cell_type": "code",
   "execution_count": null,
   "metadata": {
    "collapsed": true
   },
   "outputs": [],
   "source": []
  },
  {
   "cell_type": "code",
   "execution_count": null,
   "metadata": {
    "collapsed": true
   },
   "outputs": [],
   "source": []
  },
  {
   "cell_type": "code",
   "execution_count": 133,
   "metadata": {
    "collapsed": true
   },
   "outputs": [],
   "source": [
    "# TITLE"
   ]
  },
  {
   "cell_type": "code",
   "execution_count": 134,
   "metadata": {
    "collapsed": false
   },
   "outputs": [],
   "source": [
    "frame = np.zeros((show_height, show_width, 3), dtype=np.uint8)\n",
    "frame = insert_title(frame, 1)\n",
    "for i in range(fix_frame_num):\n",
    "    out.write(frame)\n",
    "for i in range(fix_frame_num / 2):\n",
    "    frame = frame * 0.9\n",
    "    frame = frame.astype(np.uint8)\n",
    "    out.write(frame)"
   ]
  },
  {
   "cell_type": "code",
   "execution_count": null,
   "metadata": {
    "collapsed": true
   },
   "outputs": [],
   "source": []
  },
  {
   "cell_type": "code",
   "execution_count": 135,
   "metadata": {
    "collapsed": true
   },
   "outputs": [],
   "source": [
    "# ACTION RECOGNITION AND SHARPNESS CALCULATION"
   ]
  },
  {
   "cell_type": "code",
   "execution_count": 136,
   "metadata": {
    "collapsed": true
   },
   "outputs": [],
   "source": [
    "text = [\"none\", \"Staring\", \"Paging\", \"shake\", \"else\"]\n",
    "cap = cv2.VideoCapture(video_filename)\n",
    "\n",
    "frame = np.zeros((show_height, show_width, 3), dtype=np.uint8)\n",
    "out.write(frame)\n",
    "\n",
    "frame = insert_title(frame, 2)\n",
    "for i in range(fix_frame_num):\n",
    "    out.write(frame)\n",
    "\n",
    "while cap.isOpened():\n",
    "    frame_idx = int(cap.get(cv2.CAP_PROP_POS_FRAMES))\n",
    "    ret, frame = cap.read()\n",
    "    if ret != True:\n",
    "        break\n",
    "    frame = cv2.resize(frame, (show_width, show_height), interpolation = cv2.INTER_AREA)\n",
    "    blurry = cv2.Laplacian(frame, cv2.CV_64F).var()\n",
    "    cv2.putText(frame, \"Sharpness: {:.2f}\".format(blurry), (10, 40),\n",
    "        font, 1, (0, 0, 255), 2)\n",
    "    if content[0][frame_idx] != '-':\n",
    "        cv2.putText(frame, text[int(content[0][frame_idx])], (show_width - 200, show_height - 20), font, 1, (0, 0, 255), 2)\n",
    "    cv2.putText(frame, str(frame_idx) + '/' + str(frame_count), (10, show_height - 20), font, 1, (0,0,255), 2)\n",
    "    out.write(frame)\n",
    "\n",
    "cap.release()\n",
    "cv2.destroyAllWindows()"
   ]
  },
  {
   "cell_type": "code",
   "execution_count": null,
   "metadata": {
    "collapsed": true
   },
   "outputs": [],
   "source": []
  },
  {
   "cell_type": "code",
   "execution_count": null,
   "metadata": {
    "collapsed": true
   },
   "outputs": [],
   "source": []
  },
  {
   "cell_type": "code",
   "execution_count": 137,
   "metadata": {
    "collapsed": true
   },
   "outputs": [],
   "source": [
    "# FIND CONTENT AREA FROM ONE FRAME"
   ]
  },
  {
   "cell_type": "code",
   "execution_count": 138,
   "metadata": {
    "collapsed": true
   },
   "outputs": [],
   "source": [
    "frame = np.zeros((show_height, show_width, 3), dtype=np.uint8)\n",
    "frame = insert_title(frame, 3)\n",
    "for i in range(fix_frame_num):\n",
    "    out.write(frame)"
   ]
  },
  {
   "cell_type": "code",
   "execution_count": 139,
   "metadata": {
    "collapsed": false
   },
   "outputs": [],
   "source": [
    "filename_ary = [\"4c5898ca-be6f-11e6-9959-d017c2cf90d9\", \"4ca99aae-be6f-11e6-9959-d017c2cf90d9\", \"4d8ed5c4-be6f-11e6-9959-d017c2cf90d9\"]\n",
    "\n",
    "for filename in filename_ary:\n",
    "    ori_image_path = \"archive/data2/images/800x450/\" + filename + \".png\"\n",
    "    mask_image_path = \"archive/data2/images/800x450_mask/\" + filename + \".png\"\n",
    "    ori_image = misc.imread(ori_image_path, mode='RGB') / 2\n",
    "    mask_image = misc.imread(mask_image_path, mode='RGB')\n",
    "    for i in range(show_height):\n",
    "        for j in range(show_width):\n",
    "            if mask_image[i, j, 0] != 255:\n",
    "                ori_image[i, j, 0] = ori_image[i, j, 0] + 123\n",
    "                ori_image[i, j, 1] = ori_image[i, j, 1]\n",
    "                ori_image[i, j, 2] = ori_image[i, j, 2]\n",
    "\n",
    "    for i in range(fix_frame_num):\n",
    "        out.write(ori_image)"
   ]
  },
  {
   "cell_type": "code",
   "execution_count": null,
   "metadata": {
    "collapsed": true
   },
   "outputs": [],
   "source": []
  },
  {
   "cell_type": "code",
   "execution_count": 140,
   "metadata": {
    "collapsed": true
   },
   "outputs": [],
   "source": [
    "# FIND LINES FROM CONTENT AREA"
   ]
  },
  {
   "cell_type": "code",
   "execution_count": 141,
   "metadata": {
    "collapsed": true
   },
   "outputs": [],
   "source": [
    "frame = np.zeros((show_height, show_width, 3), dtype=np.uint8)\n",
    "frame = insert_title(frame, 4)\n",
    "\n",
    "for i in range(fix_frame_num):\n",
    "    out.write(frame)"
   ]
  },
  {
   "cell_type": "code",
   "execution_count": 142,
   "metadata": {
    "collapsed": true
   },
   "outputs": [],
   "source": [
    "for i in range(3):\n",
    "    frame = misc.imread(\"find_line_\" + str(i) + \".png\", mode='RGB')\n",
    "    for i in range(fix_frame_num):\n",
    "        out.write(frame)"
   ]
  },
  {
   "cell_type": "code",
   "execution_count": null,
   "metadata": {
    "collapsed": true
   },
   "outputs": [],
   "source": []
  },
  {
   "cell_type": "code",
   "execution_count": 143,
   "metadata": {
    "collapsed": true
   },
   "outputs": [],
   "source": [
    "# TEXT RECOGNITION"
   ]
  },
  {
   "cell_type": "code",
   "execution_count": 144,
   "metadata": {
    "collapsed": false
   },
   "outputs": [],
   "source": [
    "frame = np.zeros((show_height, show_width, 3), dtype=np.uint8)\n",
    "frame = insert_title(frame, 5)\n",
    "\n",
    "for i in range(fix_frame_num):\n",
    "    out.write(frame)\n",
    "\n",
    "\n",
    "frame = np.zeros((show_height, show_width, 3), dtype=np.uint8)\n",
    "height_base = 50\n",
    "height_interval = 90\n",
    "width_base = 200\n",
    "text_width_base = 15\n",
    "text_interval = 30\n",
    "for i in range(5):\n",
    "    text_img = misc.imread(\"line_recog_\" + str(i) + \".png\", mode=\"RGB\")\n",
    "    height, width, _ = text_img.shape\n",
    "    cur_h_base = height_base + i * height_interval\n",
    "    frame[cur_h_base:cur_h_base + height, width_base:width_base + width, :] = text_img\n",
    "    with open(\"line_recog_\" + str(i) + \".txt\") as f:\n",
    "        content = f.readlines()\n",
    "    # you may also want to remove whitespace characters like `\\n` at the end of each line\n",
    "    content = [x.strip() for x in content]\n",
    "    cv2.putText(frame, content[0], (text_width_base, cur_h_base + text_interval), font, 0.34, (0, 255, 255), 1)\n",
    "for i in range(fix_frame_num * 2):\n",
    "    out.write(frame)\n",
    "\n"
   ]
  },
  {
   "cell_type": "code",
   "execution_count": null,
   "metadata": {
    "collapsed": true
   },
   "outputs": [],
   "source": []
  },
  {
   "cell_type": "code",
   "execution_count": 145,
   "metadata": {
    "collapsed": true
   },
   "outputs": [],
   "source": [
    "# THE END"
   ]
  },
  {
   "cell_type": "code",
   "execution_count": 146,
   "metadata": {
    "collapsed": true
   },
   "outputs": [],
   "source": [
    "frame = np.zeros((show_height, show_width, 3), dtype=np.uint8)\n",
    "frame = insert_title(frame, 6)\n",
    "for i in range(fix_frame_num / 2):\n",
    "    out.write(frame)\n",
    "for i in range(fix_frame_num / 2):\n",
    "    frame = frame * 0.9\n",
    "    frame = frame.astype(np.uint8)\n",
    "    out.write(frame)"
   ]
  },
  {
   "cell_type": "code",
   "execution_count": null,
   "metadata": {
    "collapsed": false
   },
   "outputs": [],
   "source": []
  },
  {
   "cell_type": "code",
   "execution_count": 147,
   "metadata": {
    "collapsed": true
   },
   "outputs": [],
   "source": [
    "out.release()"
   ]
  },
  {
   "cell_type": "code",
   "execution_count": null,
   "metadata": {
    "collapsed": true
   },
   "outputs": [],
   "source": []
  }
 ],
 "metadata": {
  "kernelspec": {
   "display_name": "Python 2",
   "language": "python",
   "name": "python2"
  },
  "language_info": {
   "codemirror_mode": {
    "name": "ipython",
    "version": 2
   },
   "file_extension": ".py",
   "mimetype": "text/x-python",
   "name": "python",
   "nbconvert_exporter": "python",
   "pygments_lexer": "ipython2",
   "version": "2.7.6"
  }
 },
 "nbformat": 4,
 "nbformat_minor": 1
}
