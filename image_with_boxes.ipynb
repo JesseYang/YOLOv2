{
 "cells": [
  {
   "cell_type": "code",
   "execution_count": 10,
   "metadata": {
    "collapsed": true
   },
   "outputs": [],
   "source": [
    "import cv2\n",
    "import os\n",
    "from scipy import misc\n",
    "import ntpath\n",
    "import uuid"
   ]
  },
  {
   "cell_type": "code",
   "execution_count": null,
   "metadata": {
    "collapsed": true
   },
   "outputs": [],
   "source": []
  },
  {
   "cell_type": "code",
   "execution_count": 11,
   "metadata": {
    "collapsed": true
   },
   "outputs": [],
   "source": [
    "output_dir = \"images_with_boxes\"\n",
    "txt_file = \"head_hand_train.txt\""
   ]
  },
  {
   "cell_type": "code",
   "execution_count": null,
   "metadata": {
    "collapsed": true
   },
   "outputs": [],
   "source": []
  },
  {
   "cell_type": "code",
   "execution_count": 12,
   "metadata": {},
   "outputs": [],
   "source": [
    "with open(txt_file) as f:\n",
    "    content = f.readlines()"
   ]
  },
  {
   "cell_type": "code",
   "execution_count": 13,
   "metadata": {},
   "outputs": [],
   "source": [
    "img_num = 0\n",
    "for line in content:\n",
    "    record = line.strip().split(' ')\n",
    "    img_path = record[0]\n",
    "    box_data = [float(ele) for ele in record[1:]]\n",
    "    idx = 0\n",
    "    img = misc.imread(img_path)\n",
    "    # output_path = os.path.join(output_dir, ntpath.basename(img_path))\n",
    "    output_path = os.path.join(output_dir, str(uuid.uuid4()) + \".jpg\")\n",
    "    i = 0\n",
    "    while i < len(box_data):\n",
    "        xmin = box_data[i]\n",
    "        ymin = box_data[i + 1]\n",
    "        xmax = box_data[i + 2]\n",
    "        ymax = box_data[i + 3]\n",
    "        \n",
    "        cv2.rectangle(img,\n",
    "                      (int(xmin), int(ymin)),\n",
    "                      (int(xmax), int(ymax)),\n",
    "                      (255, 0, 0),\n",
    "                      3)\n",
    "        i += 5\n",
    "    \n",
    "    misc.imsave(output_path, img)\n",
    "    img_num += 1\n",
    "    if img_num > 20:\n",
    "        break"
   ]
  },
  {
   "cell_type": "code",
   "execution_count": null,
   "metadata": {
    "collapsed": true
   },
   "outputs": [],
   "source": []
  }
 ],
 "metadata": {
  "kernelspec": {
   "display_name": "Python 3",
   "language": "python",
   "name": "python3"
  },
  "language_info": {
   "codemirror_mode": {
    "name": "ipython",
    "version": 3
   },
   "file_extension": ".py",
   "mimetype": "text/x-python",
   "name": "python",
   "nbconvert_exporter": "python",
   "pygments_lexer": "ipython3",
   "version": "3.5.2"
  }
 },
 "nbformat": 4,
 "nbformat_minor": 2
}
