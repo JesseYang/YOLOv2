{
 "cells": [
  {
   "cell_type": "code",
   "execution_count": 1,
   "metadata": {
    "collapsed": true
   },
   "outputs": [],
   "source": [
    "import os\n",
    "import xml.etree.ElementTree as ET \n",
    "import struct\n",
    "import numpy as np\n",
    "import cv2\n",
    "import random\n",
    "from matplotlib import pyplot as plt\n",
    "%matplotlib inline\n",
    "from IPython.core.debugger import Tracer"
   ]
  },
  {
   "cell_type": "code",
   "execution_count": null,
   "metadata": {
    "collapsed": true
   },
   "outputs": [],
   "source": []
  },
  {
   "cell_type": "code",
   "execution_count": 2,
   "metadata": {
    "collapsed": true
   },
   "outputs": [],
   "source": [
    "DATA_DIR = \"children_draw\""
   ]
  },
  {
   "cell_type": "code",
   "execution_count": null,
   "metadata": {
    "collapsed": true
   },
   "outputs": [],
   "source": []
  },
  {
   "cell_type": "code",
   "execution_count": 3,
   "metadata": {
    "collapsed": true
   },
   "outputs": [],
   "source": [
    "def parse_xml(image_dir, xml_file):\n",
    "#     image_dir = \"\"\n",
    "    tree = ET.parse(xml_file)\n",
    "    root = tree.getroot()\n",
    "\n",
    "    image_paths = []\n",
    "    labels = []\n",
    "\n",
    "    images = root.find(\"images\")\n",
    "    images = images.findall(\"image\")\n",
    "    print(\"Number of images to parse: \" + str(len(images)))\n",
    "\n",
    "    for idx, image in enumerate(images):\n",
    "        if idx % 100 == 0:\n",
    "            print(idx)\n",
    "        image_name = image.get('file').split('\\\\')[-1]\n",
    "        image_path = os.path.join(image_dir, image_name)\n",
    "        cur_img = cv2.imread(image_path)\n",
    "        if cur_img == None:\n",
    "            print(\"wrong img name: \" + xml_file)\n",
    "            continue\n",
    "        img_height, img_width, _ = cur_img.shape\n",
    "\n",
    "        image_labels = []\n",
    "        boxes = image.findall('box')\n",
    "        if len(boxes) == 0:\n",
    "            print(\"no label data: \" + xml_file)\n",
    "            continue\n",
    "        for box in boxes:\n",
    "            obj_label = box.find('label')\n",
    "            if obj_label.text == \"bar\":\n",
    "                continue\n",
    "            top = int(box.get('top'))\n",
    "            left = int(box.get('left'))\n",
    "            width = int(box.get('width'))\n",
    "            height = int(box.get('height'))\n",
    "\n",
    "            xmin = np.max([left, 0])\n",
    "            xmax = np.min([left + width, img_width])\n",
    "            ymin = np.max([top, 0])\n",
    "            ymax = np.min([top + height, img_height])\n",
    "\n",
    "            image_labels.append([xmin, ymin, xmax, ymax, 0])\n",
    "        \n",
    "        if len(image_labels) == 0:\n",
    "            continue\n",
    "\n",
    "        image_paths.append(os.path.join(image_dir, image_name))\n",
    "        labels.append(image_labels)\n",
    "    return image_paths, labels"
   ]
  },
  {
   "cell_type": "code",
   "execution_count": null,
   "metadata": {
    "collapsed": true
   },
   "outputs": [],
   "source": []
  },
  {
   "cell_type": "code",
   "execution_count": 4,
   "metadata": {
    "collapsed": true
   },
   "outputs": [],
   "source": [
    "image_paths = []\n",
    "labels = []"
   ]
  },
  {
   "cell_type": "code",
   "execution_count": 11,
   "metadata": {
    "collapsed": false
   },
   "outputs": [
    {
     "name": "stdout",
     "output_type": "stream",
     "text": [
      "Number of images to parse: 1656\n",
      "0\n"
     ]
    },
    {
     "name": "stderr",
     "output_type": "stream",
     "text": [
      "/usr/local/lib/python3.5/dist-packages/ipykernel/__main__.py:19: FutureWarning: comparison to `None` will result in an elementwise object comparison in the future.\n"
     ]
    },
    {
     "name": "stdout",
     "output_type": "stream",
     "text": [
      "100\n",
      "200\n",
      "300\n",
      "400\n",
      "500\n",
      "600\n",
      "700\n",
      "800\n",
      "900\n",
      "1000\n",
      "1100\n",
      "1200\n",
      "1300\n",
      "1400\n",
      "1500\n",
      "1600\n"
     ]
    }
   ],
   "source": [
    "image_dir = os.path.join(DATA_DIR, \"images\")\n",
    "xml_file = os.path.join(DATA_DIR, \"images.xml\")\n",
    "image_paths, labels = parse_xml(image_dir, xml_file)"
   ]
  },
  {
   "cell_type": "code",
   "execution_count": null,
   "metadata": {
    "collapsed": true
   },
   "outputs": [],
   "source": []
  },
  {
   "cell_type": "code",
   "execution_count": 12,
   "metadata": {
    "collapsed": true
   },
   "outputs": [],
   "source": [
    "def convert_to_string(image_path, labels):\n",
    "    \"\"\"convert image_path, lables to string \n",
    "    Returns:\n",
    "    string \n",
    "    \"\"\"\n",
    "    out_string = ''\n",
    "    out_string += image_path\n",
    "    for label in labels:\n",
    "        for i in label:\n",
    "            out_string += ' ' + str(i)\n",
    "    out_string += '\\n'\n",
    "    return out_string\n",
    "\n",
    "records = []\n",
    "for idx, image_path in enumerate(image_paths):\n",
    "    label = labels[idx]\n",
    "    records.append(convert_to_string(image_path, label))\n",
    "\n",
    "random.shuffle(records)"
   ]
  },
  {
   "cell_type": "code",
   "execution_count": null,
   "metadata": {
    "collapsed": true
   },
   "outputs": [],
   "source": []
  },
  {
   "cell_type": "code",
   "execution_count": 15,
   "metadata": {
    "collapsed": true
   },
   "outputs": [],
   "source": [
    "val_ratio = 0.1\n",
    "total_num = len(records)\n",
    "val_num = int(val_ratio * total_num)\n",
    "train_num = total_num - val_num\n",
    "train_records = records[0:train_num]\n",
    "val_records = records[train_num:]"
   ]
  },
  {
   "cell_type": "code",
   "execution_count": 16,
   "metadata": {
    "collapsed": true
   },
   "outputs": [],
   "source": [
    "train_out_file = open(\"draw_train.txt\", \"w\")\n",
    "for record in train_records:\n",
    "    train_out_file.write(record)\n",
    "train_out_file.close()\n",
    "val_out_file = open(\"draw_val.txt\", \"w\")\n",
    "for record in val_records:\n",
    "    val_out_file.write(record)\n",
    "val_out_file.close()"
   ]
  },
  {
   "cell_type": "code",
   "execution_count": null,
   "metadata": {
    "collapsed": true
   },
   "outputs": [],
   "source": []
  }
 ],
 "metadata": {
  "kernelspec": {
   "display_name": "Python 3",
   "language": "python",
   "name": "python3"
  },
  "language_info": {
   "codemirror_mode": {
    "name": "ipython",
    "version": 3
   },
   "file_extension": ".py",
   "mimetype": "text/x-python",
   "name": "python",
   "nbconvert_exporter": "python",
   "pygments_lexer": "ipython3",
   "version": "3.5.2"
  }
 },
 "nbformat": 4,
 "nbformat_minor": 2
}
