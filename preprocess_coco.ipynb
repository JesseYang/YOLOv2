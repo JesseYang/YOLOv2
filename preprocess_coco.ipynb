{
 "cells": [
  {
   "cell_type": "code",
   "execution_count": 1,
   "metadata": {
    "collapsed": true
   },
   "outputs": [],
   "source": [
    "import os\n",
    "import struct\n",
    "import numpy as np\n",
    "from IPython.core.debugger import Tracer\n",
    "import json\n",
    "import time\n",
    "from collections import defaultdict"
   ]
  },
  {
   "cell_type": "code",
   "execution_count": 14,
   "metadata": {
    "collapsed": true
   },
   "outputs": [],
   "source": [
    "annFile = '../coco/annotations/instances_val2014.json'\n",
    "data_path = '../coco/val2014'\n",
    "out_path = 'coco_val.txt'"
   ]
  },
  {
   "cell_type": "code",
   "execution_count": 3,
   "metadata": {
    "collapsed": false
   },
   "outputs": [],
   "source": [
    "class COCO:\n",
    "    def __init__(self, annotation_file=None):\n",
    "        \"\"\"\n",
    "        Constructor of Microsoft COCO helper class for reading and visualizing annotations.\n",
    "        :param annotation_file (str): location of annotation file\n",
    "        :param image_folder (str): location to the folder that hosts images.\n",
    "        :return:\n",
    "        \"\"\"\n",
    "        # load dataset\n",
    "        self.dataset,self.anns,self.cats,self.imgs = dict(),dict(),dict(),dict()\n",
    "        self.imgToAnns, self.catToImgs = defaultdict(list), defaultdict(list)\n",
    "        if not annotation_file == None:\n",
    "            print('loading annotations into memory...')\n",
    "            tic = time.time()\n",
    "            dataset = json.load(open(annotation_file, 'r'))\n",
    "            assert type(dataset)==dict, 'annotation file format {} not supported'.format(type(dataset))\n",
    "            print('Done (t={:0.2f}s)'.format(time.time()- tic))\n",
    "            self.dataset = dataset\n",
    "            self.createIndex()\n",
    "\n",
    "    def createIndex(self):\n",
    "        # create index\n",
    "        print('creating index...')\n",
    "        anns, cats, imgs = {}, {}, {}\n",
    "        imgToAnns,catToImgs = defaultdict(list),defaultdict(list)\n",
    "        if 'annotations' in self.dataset:\n",
    "            for ann in self.dataset['annotations']:\n",
    "                imgToAnns[ann['image_id']].append(ann)\n",
    "                anns[ann['id']] = ann\n",
    "\n",
    "        if 'images' in self.dataset:\n",
    "            for img in self.dataset['images']:\n",
    "                imgs[img['id']] = img\n",
    "\n",
    "        if 'categories' in self.dataset:\n",
    "            for cat in self.dataset['categories']:\n",
    "                cats[cat['id']] = cat\n",
    "\n",
    "        if 'annotations' in self.dataset and 'categories' in self.dataset:\n",
    "            for ann in self.dataset['annotations']:\n",
    "                catToImgs[ann['category_id']].append(ann['image_id'])\n",
    "\n",
    "        print('index created!')\n",
    "\n",
    "        # create class members\n",
    "        self.anns = anns\n",
    "        self.imgToAnns = imgToAnns\n",
    "        self.catToImgs = catToImgs\n",
    "        self.imgs = imgs\n",
    "        self.cats = cats"
   ]
  },
  {
   "cell_type": "code",
   "execution_count": null,
   "metadata": {
    "collapsed": true
   },
   "outputs": [],
   "source": []
  },
  {
   "cell_type": "code",
   "execution_count": 15,
   "metadata": {
    "collapsed": false
   },
   "outputs": [
    {
     "name": "stdout",
     "output_type": "stream",
     "text": [
      "loading annotations into memory...\n",
      "Done (t=6.19s)\n",
      "creating index...\n",
      "index created!\n"
     ]
    }
   ],
   "source": [
    "coco=COCO(annFile)"
   ]
  },
  {
   "cell_type": "code",
   "execution_count": null,
   "metadata": {
    "collapsed": false
   },
   "outputs": [],
   "source": []
  },
  {
   "cell_type": "code",
   "execution_count": 10,
   "metadata": {
    "collapsed": false
   },
   "outputs": [],
   "source": [
    "def parse_coco_ann(coco, Idx, data_path):\n",
    "    labels = []\n",
    "    for i in range(len(coco.imgToAnns[Idx])):\n",
    "        xmin, ymin, w, h = coco.imgToAnns[Idx][i]['bbox']\n",
    "        xmax = xmin + w\n",
    "        ymax = ymin + h\n",
    "        labels.append([round(xmin), round(ymin), round(xmax), round(ymax), coco.imgToAnns[Idx][i]['category_id'] - 1])\n",
    "    imageId = coco.imgToAnns[Idx][0]['image_id']\n",
    "    image_file = coco.imgs[imageId]['file_name']\n",
    "    image_path = os.path.join(data_path, image_file)\n",
    "    return image_path, labels"
   ]
  },
  {
   "cell_type": "code",
   "execution_count": null,
   "metadata": {
    "collapsed": true
   },
   "outputs": [],
   "source": []
  },
  {
   "cell_type": "code",
   "execution_count": 11,
   "metadata": {
    "collapsed": true
   },
   "outputs": [],
   "source": [
    "def convert_to_string(image_path, labels):\n",
    "    \"\"\"convert image_path, lables to string \n",
    "    Returns:\n",
    "    string \n",
    "    \"\"\"\n",
    "    out_string = ''\n",
    "    out_string += image_path\n",
    "    for label in labels:\n",
    "        for i in label:\n",
    "            out_string += ' ' + str(i)\n",
    "    out_string += '\\n'\n",
    "    return out_string"
   ]
  },
  {
   "cell_type": "code",
   "execution_count": null,
   "metadata": {
    "collapsed": true
   },
   "outputs": [],
   "source": []
  },
  {
   "cell_type": "code",
   "execution_count": 12,
   "metadata": {
    "collapsed": false
   },
   "outputs": [],
   "source": [
    "def process_json(coco, data_path, out_path):\n",
    "    out_file = open(out_path, 'w')\n",
    "    \n",
    "    for Idx in coco.imgToAnns.keys():\n",
    "        try:\n",
    "            image_path, labels = parse_coco_ann(coco, Idx, data_path)            \n",
    "            if len(labels) > 0:\n",
    "                record = convert_to_string(image_path, labels)\n",
    "                out_file.write(record)\n",
    "        except Exception:\n",
    "            pass\n",
    "    out_file.close()"
   ]
  },
  {
   "cell_type": "code",
   "execution_count": null,
   "metadata": {
    "collapsed": false
   },
   "outputs": [],
   "source": []
  },
  {
   "cell_type": "code",
   "execution_count": 16,
   "metadata": {
    "collapsed": false
   },
   "outputs": [
    {
     "name": "stdout",
     "output_type": "stream",
     "text": [
      "done\n"
     ]
    }
   ],
   "source": [
    "process_json(coco, data_path, out_path)\n",
    "print('done')"
   ]
  },
  {
   "cell_type": "code",
   "execution_count": null,
   "metadata": {
    "collapsed": true
   },
   "outputs": [],
   "source": []
  }
 ],
 "metadata": {
  "kernelspec": {
   "display_name": "Python 3",
   "language": "python",
   "name": "python3"
  },
  "language_info": {
   "codemirror_mode": {
    "name": "ipython",
    "version": 3
   },
   "file_extension": ".py",
   "mimetype": "text/x-python",
   "name": "python",
   "nbconvert_exporter": "python",
   "pygments_lexer": "ipython3",
   "version": "3.6.0"
  }
 },
 "nbformat": 4,
 "nbformat_minor": 2
}
