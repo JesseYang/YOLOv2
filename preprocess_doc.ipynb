{
 "cells": [
  {
   "cell_type": "markdown",
   "metadata": {
    "deletable": true,
    "editable": true
   },
   "source": [
    "#### 功能说明：\n",
    "+ 遍历原始数据，生成训练集txt文件和测试集txt文件\n",
    "+ txt文件中一行为一个图片的数据，数据以空格分割，第一个元素是图片路径，后面元素依次是每一个物体的xmin，ymin，xmax和ymax\n",
    "\n",
    "#### 原数据格式要求：\n",
    "+ 数据存放在ROOT_DATA_DIR指向的文件夹中，每次收集的数据以日期命名为一个文件夹，标注数据为日期命名的xml文件，另外有一个ipynb文件用于对数据进行预处理"
   ]
  },
  {
   "cell_type": "code",
   "execution_count": 6,
   "metadata": {
    "collapsed": true,
    "deletable": true,
    "editable": true
   },
   "outputs": [],
   "source": [
    "import os\n",
    "import xml.etree.ElementTree as ET \n",
    "import struct\n",
    "import numpy as np\n",
    "import cv2\n",
    "import random\n",
    "from matplotlib import pyplot as plt\n",
    "%matplotlib inline\n",
    "from IPython.core.debugger import Tracer"
   ]
  },
  {
   "cell_type": "markdown",
   "metadata": {
    "deletable": true,
    "editable": true
   },
   "source": [
    "#### 可配置的参数：\n",
    "+ 原数据文件夹\n",
    "+ 测试集数量占数据总量的比例\n",
    "+ 训练集和测试集txt文件的名称"
   ]
  },
  {
   "cell_type": "code",
   "execution_count": 7,
   "metadata": {
    "collapsed": true,
    "deletable": true,
    "editable": true
   },
   "outputs": [],
   "source": [
    "ROOT_DATA_DIR = \"data_doc\"\n",
    "test_ratio = 0.1\n",
    "train_file_name = \"doc_train.txt\"\n",
    "test_file_name = \"doc_test.txt\""
   ]
  },
  {
   "cell_type": "code",
   "execution_count": 21,
   "metadata": {
    "collapsed": true,
    "deletable": true,
    "editable": true
   },
   "outputs": [],
   "source": [
    "def parse_xml(image_dir, xml_file):\n",
    "    if os.path.isfile(xml_file) == False:\n",
    "        return [], []\n",
    "    tree = ET.parse(xml_file)\n",
    "    root = tree.getroot()\n",
    "\n",
    "    image_paths = []\n",
    "    labels = []\n",
    "\n",
    "    images = root.find(\"images\")\n",
    "    images = images.findall(\"image\")\n",
    "\n",
    "    for image in images:\n",
    "        image_name = image.get('file').split('/')[-1]\n",
    "        image_path = os.path.join(image_dir, image_name)\n",
    "        cur_img = cv2.imread(image_path)\n",
    "        if cur_img == None:\n",
    "            print(\"wrong img name: \" + xml_file)\n",
    "            continue\n",
    "        img_height, img_width, _ = cur_img.shape\n",
    "\n",
    "        image_labels = []\n",
    "        boxes = image.findall('box')\n",
    "        if len(boxes) == 0:\n",
    "            continue\n",
    "        for box in boxes:\n",
    "            obj_label = box.find('label')\n",
    "            if obj_label.text == \"bar\":\n",
    "                continue\n",
    "            top = int(box.get('top'))\n",
    "            left = int(box.get('left'))\n",
    "            width = int(box.get('width'))\n",
    "            height = int(box.get('height'))\n",
    "\n",
    "            xmin = np.max([left, 0])\n",
    "            xmax = np.min([left + width, img_width])\n",
    "            ymin = np.max([top, 0])\n",
    "            ymax = np.min([top + height, img_height])\n",
    "\n",
    "            # all the objects are class 0\n",
    "            image_labels.append([xmin, ymin, xmax, ymax, 0])\n",
    "        \n",
    "        if len(image_labels) == 0:\n",
    "            continue\n",
    "\n",
    "        image_paths.append(os.path.join(image_dir, image_name))\n",
    "        labels.append(image_labels)\n",
    "    return image_paths, labels"
   ]
  },
  {
   "cell_type": "code",
   "execution_count": null,
   "metadata": {
    "collapsed": true,
    "deletable": true,
    "editable": true
   },
   "outputs": [],
   "source": []
  },
  {
   "cell_type": "code",
   "execution_count": 22,
   "metadata": {
    "collapsed": false,
    "deletable": true,
    "editable": true
   },
   "outputs": [
    {
     "name": "stderr",
     "output_type": "stream",
     "text": [
      "/usr/local/lib/python3.5/dist-packages/ipykernel/__main__.py:17: FutureWarning: comparison to `None` will result in an elementwise object comparison in the future.\n"
     ]
    }
   ],
   "source": [
    "image_paths = []\n",
    "labels = []\n",
    "\n",
    "data_dirs = os.listdir(ROOT_DATA_DIR)\n",
    "\n",
    "for data_dir in data_dirs:    \n",
    "    data_dir_path = os.path.join(ROOT_DATA_DIR, data_dir)\n",
    "    label_path = data_dir_path + \".xml\"\n",
    "    \n",
    "    if os.path.isfile(label_path) == False:\n",
    "        continue\n",
    "    cur_paths, cur_labels = parse_xml(data_dir_path, label_path)\n",
    "    image_paths.extend(cur_paths)\n",
    "    labels.extend(cur_labels)\n",
    "#     break"
   ]
  },
  {
   "cell_type": "code",
   "execution_count": null,
   "metadata": {
    "collapsed": true,
    "deletable": true,
    "editable": true
   },
   "outputs": [],
   "source": []
  },
  {
   "cell_type": "code",
   "execution_count": 23,
   "metadata": {
    "collapsed": false,
    "deletable": true,
    "editable": true
   },
   "outputs": [
    {
     "name": "stdout",
     "output_type": "stream",
     "text": [
      "119\n"
     ]
    }
   ],
   "source": [
    "# convert records to strings\n",
    "def convert_to_string(image_path, labels):\n",
    "    \"\"\"convert image_path, lables to string \n",
    "    Returns:\n",
    "    string \n",
    "    \"\"\"\n",
    "    out_string = ''\n",
    "    out_string += image_path\n",
    "    for label in labels:\n",
    "        for i in label:\n",
    "            out_string += ' ' + str(i)\n",
    "    out_string += '\\n'\n",
    "    return out_string\n",
    "\n",
    "records = []\n",
    "for idx, image_path in enumerate(image_paths):\n",
    "    label = labels[idx]\n",
    "    records.append(convert_to_string(image_path, label))\n",
    "\n",
    "random.shuffle(records)\n",
    "print(len(records))"
   ]
  },
  {
   "cell_type": "code",
   "execution_count": null,
   "metadata": {
    "collapsed": true,
    "deletable": true,
    "editable": true
   },
   "outputs": [],
   "source": []
  },
  {
   "cell_type": "code",
   "execution_count": 24,
   "metadata": {
    "collapsed": true,
    "deletable": true,
    "editable": true
   },
   "outputs": [],
   "source": [
    "# split into training set and test set\n",
    "total_num = len(records)\n",
    "test_num = int(test_ratio * total_num)\n",
    "train_num = total_num - test_num\n",
    "train_records = records[0:train_num]\n",
    "test_records = records[train_num:]"
   ]
  },
  {
   "cell_type": "code",
   "execution_count": 25,
   "metadata": {
    "collapsed": true,
    "deletable": true,
    "editable": true
   },
   "outputs": [],
   "source": [
    "# save to text file\n",
    "train_out_file = open(train_file_name, \"w\")\n",
    "for record in train_records:\n",
    "    train_out_file.write(record)\n",
    "train_out_file.close()\n",
    "test_out_file = open(test_file_name, \"w\")\n",
    "for record in test_records:\n",
    "    test_out_file.write(record)\n",
    "test_out_file.close()"
   ]
  },
  {
   "cell_type": "code",
   "execution_count": null,
   "metadata": {
    "collapsed": true,
    "deletable": true,
    "editable": true
   },
   "outputs": [],
   "source": []
  }
 ],
 "metadata": {
  "kernelspec": {
   "display_name": "Python 3",
   "language": "python",
   "name": "python3"
  },
  "language_info": {
   "codemirror_mode": {
    "name": "ipython",
    "version": 3
   },
   "file_extension": ".py",
   "mimetype": "text/x-python",
   "name": "python",
   "nbconvert_exporter": "python",
   "pygments_lexer": "ipython3",
   "version": "3.5.2"
  }
 },
 "nbformat": 4,
 "nbformat_minor": 2
}
