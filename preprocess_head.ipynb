{
 "cells": [
  {
   "cell_type": "code",
   "execution_count": 1,
   "metadata": {
    "collapsed": true
   },
   "outputs": [],
   "source": [
    "import os\n",
    "import cv2\n",
    "import xml.etree.ElementTree as ET\n",
    "import numpy as np\n",
    "import random\n",
    "from matplotlib import pyplot as plt\n",
    "%matplotlib inline"
   ]
  },
  {
   "cell_type": "code",
   "execution_count": null,
   "metadata": {
    "collapsed": true
   },
   "outputs": [],
   "source": []
  },
  {
   "cell_type": "code",
   "execution_count": 2,
   "metadata": {
    "collapsed": true
   },
   "outputs": [],
   "source": [
    "root_dir = \"20171001/images\"\n",
    "test_ratio = 0.1\n",
    "train_file_name = \"head_train.txt\"\n",
    "test_file_name = \"head_test.txt\""
   ]
  },
  {
   "cell_type": "code",
   "execution_count": 3,
   "metadata": {
    "collapsed": true
   },
   "outputs": [],
   "source": [
    "sub_dirs = os.listdir(root_dir)"
   ]
  },
  {
   "cell_type": "code",
   "execution_count": null,
   "metadata": {
    "collapsed": true
   },
   "outputs": [],
   "source": []
  },
  {
   "cell_type": "code",
   "execution_count": 4,
   "metadata": {
    "collapsed": true
   },
   "outputs": [],
   "source": [
    "# one class: head"
   ]
  },
  {
   "cell_type": "code",
   "execution_count": 9,
   "metadata": {
    "collapsed": true
   },
   "outputs": [],
   "source": [
    "def parse_xml(image_dir, xml_file):\n",
    "    if os.path.isfile(xml_file) == False:\n",
    "        return [], []\n",
    "    tree = ET.parse(xml_file)\n",
    "    root = tree.getroot()\n",
    "\n",
    "    image_paths = []\n",
    "    labels = []\n",
    "\n",
    "    images = root.find(\"images\")\n",
    "    images = images.findall(\"image\")\n",
    "\n",
    "    for image in images:\n",
    "        image_name = image.get('file').split('\\\\')[1]\n",
    "        image_path = os.path.join(image_dir, image_name)\n",
    "        cur_img = cv2.imread(image_path)\n",
    "        if cur_img is None:\n",
    "            print(\"wrong img name: \" + xml_file)\n",
    "            continue\n",
    "        img_height, img_width, _ = cur_img.shape\n",
    "\n",
    "        image_labels = []\n",
    "        boxes = image.findall('box')\n",
    "        if len(boxes) == 0:\n",
    "            continue\n",
    "        for box in boxes:\n",
    "            obj_label = box.find('label')\n",
    "            if obj_label.text.endswith(\"head\"):\n",
    "                klass = 0\n",
    "            else:\n",
    "                continue\n",
    "            top = int(box.get('top'))\n",
    "            left = int(box.get('left'))\n",
    "            width = int(box.get('width'))\n",
    "            height = int(box.get('height'))\n",
    "\n",
    "            xmin = np.max([left, 0])\n",
    "            xmax = np.min([left + width, img_width])\n",
    "            ymin = np.max([top, 0])\n",
    "            ymax = np.min([top + height, img_height])\n",
    "\n",
    "            # all the objects are class 0\n",
    "            image_labels.append([xmin, ymin, xmax, ymax, klass])\n",
    "        if len(image_labels) == 0:\n",
    "            continue\n",
    "        image_paths.append(os.path.join(image_dir, image_name))\n",
    "        labels.append(image_labels)\n",
    "    return image_paths, labels"
   ]
  },
  {
   "cell_type": "code",
   "execution_count": null,
   "metadata": {
    "collapsed": true
   },
   "outputs": [],
   "source": []
  },
  {
   "cell_type": "code",
   "execution_count": null,
   "metadata": {
    "collapsed": true
   },
   "outputs": [],
   "source": []
  },
  {
   "cell_type": "code",
   "execution_count": null,
   "metadata": {
    "collapsed": true
   },
   "outputs": [],
   "source": []
  },
  {
   "cell_type": "code",
   "execution_count": 10,
   "metadata": {},
   "outputs": [
    {
     "name": "stdout",
     "output_type": "stream",
     "text": [
      "20171001/images/1/005e3abe-df6b-42d9-9aca-1798f9167498\n",
      "20171001/images/1/3ea9a492-0369-4fff-90d3-f453c059dddd\n",
      "20171001/images/1/010c8c75-9d84-40ca-9b3e-e5dbbd3e9886\n",
      "20171001/images/1/e0f7d7c7-ac41-4f12-b873-7350ce011572\n",
      "20171001/images/1/02001955-28e2-44c6-8a16-300195bf7cca\n",
      "20171001/images/1/cc4a3ec4-e0c1-403f-8ab0-1aa79e7a6899\n",
      "20171001/images/1/b0bc439e-558e-4cf1-8826-5b93dca150e5\n",
      "20171001/images/1/0f6cb1bb-cbba-4448-a602-69ce7f23803e\n",
      "20171001/images/1/2fed3667-45bd-4eec-bcb3-d4c170ba6c17\n",
      "20171001/images/1/b769b2f9-8da6-420b-9207-23112a0a3bb0\n",
      "20171001/images/1/1aeaefd1-8231-41d3-852c-2a922f80390e\n",
      "20171001/images/1/4a57fd94-43ab-44c2-9941-2f4fc536c2a9\n",
      "20171001/images/1/225040bc-89be-4979-93c2-22f06d06cad4\n",
      "20171001/images/1/f5f87698-275c-465f-a33e-e31aebf85a90\n",
      "20171001/images/1/1a11181e-cd3a-4c9b-931a-1000450feadc\n",
      "20171001/images/1/d7fd29cd-7308-49d1-9d4f-8e78333b7491\n",
      "20171001/images/1/1c7a50d9-26cf-4671-a616-a3063197cb14\n",
      "20171001/images/1/2b104625-2b96-4a0c-95fd-1567b375fd30\n",
      "20171001/images/1/99713be6-6946-4c3d-b585-040957fcba23\n",
      "20171001/images/1/22f65a3a-6c02-4768-9650-f676ad6078bc\n",
      "20171001/images/1/e15efa37-ab7a-421b-aca1-e8174deea862\n",
      "20171001/images/1/5f5fda5b-a793-4908-a6cc-ab02ab0f53ce\n",
      "20171001/images/1/e63dce32-2e29-4242-9cc4-f2ed5bde84c9\n",
      "20171001/images/1/cf46b460-0308-40e6-8bfa-343179a9d6e3\n",
      "20171001/images/1/9be43fd3-b7ae-4e3b-bb9a-86170a926278\n",
      "20171001/images/1/6c1f4a86-8db4-4b92-8d86-b3a49325178a\n",
      "20171001/images/1/d150687a-a0a4-4d48-9a9d-46983b945b97\n",
      "20171001/images/1/e4d239d7-dbce-4fa3-9362-d851016786f6\n",
      "20171001/images/1/56329979-006c-4d9d-ae74-2e1eef80d56b\n",
      "20171001/images/1/3cfe4d52-40d9-43f5-9749-c56c40a020a2\n",
      "20171001/images/1/e1f44a0f-e6c6-4916-97b5-1f6bfca9ee3b\n",
      "20171001/images/1/0f218dff-1ffd-486d-a045-8f9f698cddde\n",
      "20171001/images/1/590effef-06fb-4059-ae98-2ca8e98c1986\n",
      "20171001/images/1/0fd62c23-9232-4425-86d1-e1ac0d9d310d\n",
      "20171001/images/1/923034fc-4ec1-4282-b307-c4ecdaf54bd3\n",
      "20171001/images/1/e824fd5f-fc3b-4cfc-b04a-5e9882e8932e\n",
      "20171001/images/1/c609d8da-0c45-4ee5-b7ed-6f08eb4d26b3\n",
      "20171001/images/1/e5c45c4f-138f-4df1-b030-f405951a56e8\n",
      "20171001/images/1/61a57002-03a9-4d93-a7b8-5d5e77a8e7c8\n",
      "20171001/images/1/a4a5de4c-9acf-4dcf-aeac-33f320fd2598\n",
      "20171001/images/1/b3424359-d85e-4aa9-8342-d3164a888a52\n",
      "20171001/images/1/2ab794a3-8637-4400-be43-8349bf070d6c\n",
      "20171001/images/1/2cc0ae5f-5d61-4df2-bdff-0db51e47730e\n",
      "20171001/images/1/9d0af49f-50c0-4479-a482-5d014766b42b\n",
      "20171001/images/1/813baac6-537b-4ae3-b9cd-26aa4e6e305c\n",
      "20171001/images/1/56873f09-5774-4b14-a504-76eea784d4c8\n",
      "20171001/images/1/aaca9dbc-1359-46f6-811c-539fd7fdbe5f\n",
      "20171001/images/1/9c8f12ef-31bf-4b21-8860-952785abaad1\n",
      "20171001/images/1/38106db8-009b-400b-9611-02f52a3cde76\n",
      "20171001/images/1/067d1ec4-eeb6-4b95-a59a-0fe0e1cff42d\n",
      "20171001/images/1/2d91e034-64f7-4b34-9d74-83449803cf29\n",
      "20171001/images/1/283f6366-dd54-4dae-90f5-003a4a507703\n",
      "20171001/images/1/8e9a5ed9-91ab-4911-81d2-e33501bc09ea\n",
      "20171001/images/1/76d96406-b29d-4897-a4c8-a34e95b2099e\n",
      "20171001/images/1/35432d56-47aa-429f-a7c4-eb92fbb2abea\n",
      "20171001/images/1/28d35d2d-b862-488f-b6fd-cc32a51874d4\n",
      "20171001/images/1/0bdea640-330b-49a0-b6a9-84472a6e0559\n",
      "20171001/images/1/79f9e178-b79f-49c9-8289-f220a8eb5b73\n",
      "20171001/images/1/a4299921-85d1-4ec2-8b4e-722de89aa878\n",
      "20171001/images/1/b695282a-089e-474d-8258-068e83f50b7c\n",
      "20171001/images/1/4865ddef-cba3-4100-a426-bc1b86202215\n",
      "20171001/images/1/f0d6e28b-6e2a-4f8d-94f8-922ba9422d8e\n",
      "20171001/images/1/b7e21559-6641-4d75-9d89-3eb148293dc5\n",
      "20171001/images/1/30417a10-e465-4fd0-bbea-51e2309a99c9\n",
      "20171001/images/1/b9d9dd04-6742-49b9-906b-cc0272fa4969\n",
      "20171001/images/1/d405531a-442f-4af5-9fb1-b4b7f34e5bd5\n",
      "20171001/images/1/0e0d2ed4-abd8-4438-9792-e2e8411313a5\n",
      "20171001/images/1/72a417e4-757d-4ba4-a214-b0afd2d14413\n",
      "20171001/images/1/13754428-21c6-4102-a06c-702ec4436e2b\n",
      "20171001/images/1/d94ecd74-7b26-4601-9faf-c1f76b548db3\n",
      "20171001/images/1/3073edda-00d7-4713-b557-fd5268756b4b\n",
      "20171001/images/1/5cd03180-7887-4ea8-af2e-c698a5145570\n",
      "20171001/images/1/d68af1e5-59b2-4503-a3f8-4046e4c15513\n",
      "20171001/images/1/f557f4d7-41f4-41c7-867e-3e3efc1b69a1\n",
      "20171001/images/1/3f4dae28-84dc-4ef5-964c-c1e65c8b285b\n",
      "20171001/images/1/2aef4eac-f544-41d5-8c0d-9494f930ea68\n",
      "20171001/images/1/41c0ced3-729c-4cf9-a008-064415582c40\n",
      "20171001/images/1/e77e5a28-154a-44cf-9b91-db5e5d577cc7\n",
      "20171001/images/1/ced7c304-0cf7-4b62-8fbc-ac92a888a170\n",
      "20171001/images/1/32acf8a5-d826-47cc-bb94-49b1b68e5f2e\n",
      "20171001/images/1/17c44ee8-adc4-4893-b82b-4295b1622827\n",
      "20171001/images/1/678e8cff-57ce-4e54-a6cc-21c401e9f448\n",
      "20171001/images/1/4e3a33b7-77d3-4977-835d-64baf9412ed7\n",
      "20171001/images/1/188f1901-9779-481d-b985-6a53a0cc5aef\n",
      "20171001/images/1/4a0a08e0-4ab8-49b0-95c2-f2ac345890b4\n",
      "20171001/images/1/06560f2a-a1e8-4b35-9af9-86c97de3da4d\n",
      "20171001/images/1/277bab10-3109-4c07-a498-02b7b02f7253\n",
      "20171001/images/1/48a2b17d-f07c-4837-b6d2-6572ba9efbc9\n",
      "20171001/images/1/bbf7c323-883b-4696-893d-e750fb3b0213\n",
      "20171001/images/1/2dd89da0-eecc-43f4-a226-93e3e432ef69\n",
      "20171001/images/1/99343cc6-b1bd-4f28-befd-04e7721e63d9\n",
      "20171001/images/1/dc34acb3-f36b-43fc-ae74-f375e2a7eaf8\n",
      "20171001/images/1/d66821d4-42f3-45ce-946b-baa781b720f2\n",
      "20171001/images/1/56cbef30-5daa-4833-8642-98109aa9e84e\n",
      "20171001/images/1/51f8cdcb-9628-49d3-a6a8-091987261f46\n",
      "20171001/images/1/71517ff9-3549-4e06-9f29-9e8a42b3dcb5\n",
      "20171001/images/1/3401497a-a250-4271-88d4-37a862e6aef5\n",
      "20171001/images/1/8d426019-73fa-44b0-aa73-f3645c3a2024\n",
      "20171001/images/1/9a690d5b-4fa9-48fe-bc88-9cdd1f514387\n",
      "20171001/images/1/580316c7-7bfd-489b-b1df-dbaf1e015b0f\n"
     ]
    }
   ],
   "source": [
    "image_paths = []\n",
    "labels = []\n",
    "for sub_dir in sub_dirs:\n",
    "    sub_dir_path = os.path.join(root_dir, sub_dir)\n",
    "    segment_dirs = os.listdir(sub_dir_path)\n",
    "    for segment_dir in segment_dirs:\n",
    "        segment_dir_path = os.path.join(sub_dir_path, segment_dir)\n",
    "        print(segment_dir_path)\n",
    "        if os.path.isdir(segment_dir_path) == False:\n",
    "            continue\n",
    "        files = os.listdir(segment_dir_path)\n",
    "        for file in files:\n",
    "            if file.endswith(\"xml\") != True:\n",
    "                continue\n",
    "            xml_path = os.path.join(segment_dir_path, file)\n",
    "            img_dir_path = os.path.join(segment_dir_path, file.split('.')[0])\n",
    "            \n",
    "            cur_paths, cur_labels = parse_xml(img_dir_path, xml_path)\n",
    "            image_paths.extend(cur_paths)\n",
    "            labels.extend(cur_labels)\n",
    "#         break\n",
    "#     break"
   ]
  },
  {
   "cell_type": "code",
   "execution_count": null,
   "metadata": {
    "collapsed": true
   },
   "outputs": [],
   "source": []
  },
  {
   "cell_type": "code",
   "execution_count": 11,
   "metadata": {},
   "outputs": [
    {
     "name": "stdout",
     "output_type": "stream",
     "text": [
      "6990\n"
     ]
    }
   ],
   "source": [
    "# convert records to strings\n",
    "def convert_to_string(image_path, labels):\n",
    "    \"\"\"convert image_path, lables to string \n",
    "    Returns:\n",
    "    string \n",
    "    \"\"\"\n",
    "    out_string = ''\n",
    "    out_string += image_path\n",
    "    for label in labels:\n",
    "        for i in label:\n",
    "            out_string += ' ' + str(i)\n",
    "    out_string += '\\n'\n",
    "    return out_string\n",
    "\n",
    "records = []\n",
    "for idx, image_path in enumerate(image_paths):\n",
    "    label = labels[idx]\n",
    "    records.append(convert_to_string(image_path, label))\n",
    "\n",
    "random.shuffle(records)\n",
    "print(len(records))"
   ]
  },
  {
   "cell_type": "code",
   "execution_count": null,
   "metadata": {
    "collapsed": true
   },
   "outputs": [],
   "source": []
  },
  {
   "cell_type": "code",
   "execution_count": 12,
   "metadata": {
    "collapsed": true
   },
   "outputs": [],
   "source": [
    "# split into training set and test set\n",
    "total_num = len(records)\n",
    "test_num = int(test_ratio * total_num)\n",
    "train_num = total_num - test_num\n",
    "train_records = records[0:train_num]\n",
    "test_records = records[train_num:]"
   ]
  },
  {
   "cell_type": "code",
   "execution_count": null,
   "metadata": {
    "collapsed": true
   },
   "outputs": [],
   "source": []
  },
  {
   "cell_type": "code",
   "execution_count": 13,
   "metadata": {
    "collapsed": true
   },
   "outputs": [],
   "source": [
    "# save to text file\n",
    "train_out_file = open(train_file_name, \"w\")\n",
    "for record in train_records:\n",
    "    train_out_file.write(record)\n",
    "train_out_file.close()\n",
    "test_out_file = open(test_file_name, \"w\")\n",
    "for record in test_records:\n",
    "    test_out_file.write(record)\n",
    "test_out_file.close()"
   ]
  },
  {
   "cell_type": "code",
   "execution_count": null,
   "metadata": {
    "collapsed": true
   },
   "outputs": [],
   "source": []
  }
 ],
 "metadata": {
  "kernelspec": {
   "display_name": "Python 3",
   "language": "python",
   "name": "python3"
  },
  "language_info": {
   "codemirror_mode": {
    "name": "ipython",
    "version": 3
   },
   "file_extension": ".py",
   "mimetype": "text/x-python",
   "name": "python",
   "nbconvert_exporter": "python",
   "pygments_lexer": "ipython3",
   "version": "3.5.2"
  }
 },
 "nbformat": 4,
 "nbformat_minor": 2
}
