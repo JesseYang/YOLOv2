{
 "cells": [
  {
   "cell_type": "code",
   "execution_count": 1,
   "metadata": {
    "collapsed": true
   },
   "outputs": [],
   "source": [
    "import os\n",
    "import numpy as np"
   ]
  },
  {
   "cell_type": "code",
   "execution_count": 2,
   "metadata": {
    "collapsed": false
   },
   "outputs": [],
   "source": [
    "# classes_name =  ['Car', 'Van', 'Truck', 'Pedestrian', 'Person_sitting', 'Cyclist', 'Tram', 'Misc']\n",
    "classes_name =  ['Car', 'Pedestrian']\n",
    "\n",
    "classes_num = {}\n",
    "for idx, class_name in enumerate(classes_name):\n",
    "    classes_num[class_name] = idx\n",
    "\n",
    "# classes_num = {'Car': 0, 'Van': 1, 'Truck': 2, 'Pedestrian': 3,\n",
    "#                'Person_sitting': 4, 'Cyclist': 5, 'Tram': 6, 'Misc': 7}\n",
    "\n",
    "truncate_th = 0.5\n",
    "occlude_th = 2"
   ]
  },
  {
   "cell_type": "code",
   "execution_count": null,
   "metadata": {
    "collapsed": true
   },
   "outputs": [],
   "source": []
  },
  {
   "cell_type": "code",
   "execution_count": 3,
   "metadata": {
    "collapsed": true
   },
   "outputs": [],
   "source": [
    "YOLO_ROOT = os.path.abspath('./')\n",
    "IMAGE_PATH = os.path.join(YOLO_ROOT, 'kitti/data_object_image_2/training/image_2')\n",
    "DATA_PATH = os.path.join(YOLO_ROOT, 'kitti/training/label_2')\n",
    "OUTPUT_TRAIN_PATH = os.path.join(YOLO_ROOT, 'kitti_train.txt')"
   ]
  },
  {
   "cell_type": "code",
   "execution_count": null,
   "metadata": {
    "collapsed": true
   },
   "outputs": [],
   "source": []
  },
  {
   "cell_type": "code",
   "execution_count": 4,
   "metadata": {
    "collapsed": true
   },
   "outputs": [],
   "source": [
    "def convert_to_string(image_path, labels):\n",
    "    \"\"\"convert image_path, lables to string \n",
    "    Returns:\n",
    "    string \n",
    "    \"\"\"\n",
    "    out_string = ''\n",
    "    out_string += image_path\n",
    "    for label in labels:\n",
    "        for i in label:\n",
    "            out_string += ' ' + str(i)\n",
    "    out_string += '\\n'\n",
    "    return out_string"
   ]
  },
  {
   "cell_type": "code",
   "execution_count": null,
   "metadata": {
    "collapsed": true
   },
   "outputs": [],
   "source": []
  },
  {
   "cell_type": "code",
   "execution_count": 5,
   "metadata": {
    "collapsed": true
   },
   "outputs": [],
   "source": [
    "train_out_file = open(OUTPUT_TRAIN_PATH, 'w')"
   ]
  },
  {
   "cell_type": "code",
   "execution_count": null,
   "metadata": {
    "collapsed": true
   },
   "outputs": [],
   "source": []
  },
  {
   "cell_type": "code",
   "execution_count": 6,
   "metadata": {
    "collapsed": false
   },
   "outputs": [
    {
     "name": "stdout",
     "output_type": "stream",
     "text": [
      "Effective images: 7471\n",
      "Effective objects: 23334\n"
     ]
    }
   ],
   "source": [
    "effect_img = 0\n",
    "effect_obj = 0\n",
    "max_obj = 0\n",
    "for (dirpath, dirnames, filenames) in os.walk(DATA_PATH):\n",
    "    for file_idx, filename in enumerate(filenames):\n",
    "        image_filename = filename.replace('txt', 'png')\n",
    "        image_path = os.path.join(IMAGE_PATH, image_filename)\n",
    "        \n",
    "        filepath= os.path.join(dirpath, filename)\n",
    "        \n",
    "        with open(filepath) as label_file:\n",
    "            objs = label_file.readlines()\n",
    "        \n",
    "        formatted_objs = []\n",
    "        for obj in objs:\n",
    "            [klass, truncated, occluded, _, xmin, ymin, xmax, ymax, _, _, _, _, _, _, _] = obj.split(\" \")\n",
    "            if klass not in classes_name:\n",
    "                continue\n",
    "            if float(truncated) > truncate_th:\n",
    "                continue\n",
    "            if int(occluded) >= occlude_th:\n",
    "                continue\n",
    "            klass_idx = classes_num[klass]\n",
    "            formatted_objs.append([xmin, ymin, xmax, ymax, str(klass_idx)])\n",
    "            effect_obj += 1\n",
    "        \n",
    "        if len(formatted_objs) == 0:\n",
    "            continue\n",
    "        \n",
    "        if len(formatted_objs) > max_obj:\n",
    "            max_obj = len(formatted_objs)\n",
    "        \n",
    "        effect_img += 1\n",
    "        \n",
    "        record = convert_to_string(image_path, formatted_objs)\n",
    "        train_out_file.write(record)\n",
    "\n",
    "print(\"Effective images: \" + str(effect_img))\n",
    "print(\"Effective objects: \" + str(effect_obj))\n",
    "print(\"Max objects in : \" + str(max_obj))\n"
   ]
  },
  {
   "cell_type": "code",
   "execution_count": null,
   "metadata": {
    "collapsed": true
   },
   "outputs": [],
   "source": []
  },
  {
   "cell_type": "code",
   "execution_count": 7,
   "metadata": {
    "collapsed": true
   },
   "outputs": [],
   "source": [
    "train_out_file.close()"
   ]
  },
  {
   "cell_type": "code",
   "execution_count": null,
   "metadata": {
    "collapsed": true
   },
   "outputs": [],
   "source": []
  }
 ],
 "metadata": {
  "kernelspec": {
   "display_name": "Python 3",
   "language": "python",
   "name": "python3"
  },
  "language_info": {
   "codemirror_mode": {
    "name": "ipython",
    "version": 3
   },
   "file_extension": ".py",
   "mimetype": "text/x-python",
   "name": "python",
   "nbconvert_exporter": "python",
   "pygments_lexer": "ipython3",
   "version": "3.6.0"
  }
 },
 "nbformat": 4,
 "nbformat_minor": 1
}
