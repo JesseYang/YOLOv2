{
 "cells": [
  {
   "cell_type": "code",
   "execution_count": 1,
   "metadata": {
    "collapsed": true,
    "deletable": true,
    "editable": true
   },
   "outputs": [],
   "source": [
    "import os\n",
    "import numpy as np\n",
    "import random"
   ]
  },
  {
   "cell_type": "code",
   "execution_count": 2,
   "metadata": {
    "collapsed": false,
    "deletable": true,
    "editable": true
   },
   "outputs": [],
   "source": [
    "# classes_name =  ['Car', 'Van', 'Truck', 'Pedestrian', 'Person_sitting', 'Cyclist', 'Tram', 'Misc']\n",
    "classes_name =  ['Car', 'Van', 'Truct', 'Pedestrian', 'Person_sitting', 'Cyclist']\n",
    "\n",
    "classes_num = {}\n",
    "for idx, class_name in enumerate(classes_name):\n",
    "    classes_num[class_name] = idx\n",
    "\n",
    "truncate_th = 0.5\n",
    "occlude_th = 2"
   ]
  },
  {
   "cell_type": "code",
   "execution_count": null,
   "metadata": {
    "collapsed": true,
    "deletable": true,
    "editable": true
   },
   "outputs": [],
   "source": []
  },
  {
   "cell_type": "code",
   "execution_count": 3,
   "metadata": {
    "collapsed": true,
    "deletable": true,
    "editable": true
   },
   "outputs": [],
   "source": [
    "IMAGE_PATH = 'kitti/training/image_2'\n",
    "DATA_PATH = 'kitti/training/label_2'\n",
    "test_ratio = 0.1\n",
    "train_file_name = \"kitti_train.txt\"\n",
    "test_file_name = \"kitti_test.txt\""
   ]
  },
  {
   "cell_type": "code",
   "execution_count": null,
   "metadata": {
    "collapsed": true,
    "deletable": true,
    "editable": true
   },
   "outputs": [],
   "source": []
  },
  {
   "cell_type": "code",
   "execution_count": 4,
   "metadata": {
    "collapsed": true,
    "deletable": true,
    "editable": true
   },
   "outputs": [],
   "source": [
    "def convert_to_string(image_path, labels):\n",
    "    \"\"\"convert image_path, lables to string \n",
    "    Returns:\n",
    "    string \n",
    "    \"\"\"\n",
    "    out_string = ''\n",
    "    out_string += image_path\n",
    "    for label in labels:\n",
    "        for i in label:\n",
    "            out_string += ' ' + str(i)\n",
    "    out_string += '\\n'\n",
    "    return out_string"
   ]
  },
  {
   "cell_type": "code",
   "execution_count": null,
   "metadata": {
    "collapsed": true,
    "deletable": true,
    "editable": true
   },
   "outputs": [],
   "source": []
  },
  {
   "cell_type": "code",
   "execution_count": 9,
   "metadata": {
    "collapsed": false,
    "deletable": true,
    "editable": true
   },
   "outputs": [
    {
     "name": "stdout",
     "output_type": "stream",
     "text": [
      "Effective images: 7471\n",
      "Effective objects: 26099\n",
      "Max objects in : 19\n"
     ]
    }
   ],
   "source": [
    "effect_img = 0\n",
    "effect_obj = 0\n",
    "max_obj = 0\n",
    "records = []\n",
    "for (dirpath, dirnames, filenames) in os.walk(DATA_PATH):\n",
    "    for file_idx, filename in enumerate(filenames):\n",
    "        image_filename = filename.replace('txt', 'png')\n",
    "        image_path = os.path.join(IMAGE_PATH, image_filename)\n",
    "        \n",
    "        filepath= os.path.join(dirpath, filename)\n",
    "        \n",
    "        with open(filepath) as label_file:\n",
    "            objs = label_file.readlines()\n",
    "        \n",
    "        formatted_objs = []\n",
    "        for obj in objs:\n",
    "            [klass, truncated, occluded, _, xmin, ymin, xmax, ymax, _, _, _, _, _, _, _] = obj.split(\" \")\n",
    "            if klass not in classes_name:\n",
    "                continue\n",
    "            if float(truncated) > truncate_th:\n",
    "                continue\n",
    "            if int(occluded) >= occlude_th:\n",
    "                continue\n",
    "            klass_idx = classes_num[klass]\n",
    "            formatted_objs.append([xmin, ymin, xmax, ymax, str(klass_idx)])\n",
    "            effect_obj += 1\n",
    "        \n",
    "        if len(formatted_objs) == 0:\n",
    "            continue\n",
    "        \n",
    "        if len(formatted_objs) > max_obj:\n",
    "            max_obj = len(formatted_objs)\n",
    "        \n",
    "        effect_img += 1\n",
    "        \n",
    "        record = convert_to_string(image_path, formatted_objs)\n",
    "        \n",
    "        records.append(record)\n",
    "#         train_out_file.write(record)\n",
    "\n",
    "print(\"Effective images: \" + str(effect_img))\n",
    "print(\"Effective objects: \" + str(effect_obj))\n",
    "print(\"Max objects in : \" + str(max_obj))\n"
   ]
  },
  {
   "cell_type": "code",
   "execution_count": null,
   "metadata": {
    "collapsed": true
   },
   "outputs": [],
   "source": []
  },
  {
   "cell_type": "code",
   "execution_count": 10,
   "metadata": {
    "collapsed": false
   },
   "outputs": [
    {
     "name": "stdout",
     "output_type": "stream",
     "text": [
      "7471\n"
     ]
    }
   ],
   "source": [
    "random.shuffle(records)\n",
    "print(len(records))"
   ]
  },
  {
   "cell_type": "code",
   "execution_count": null,
   "metadata": {
    "collapsed": true,
    "deletable": true,
    "editable": true
   },
   "outputs": [],
   "source": []
  },
  {
   "cell_type": "code",
   "execution_count": 11,
   "metadata": {
    "collapsed": true,
    "deletable": true,
    "editable": true
   },
   "outputs": [],
   "source": [
    "# split into training set and test set\n",
    "total_num = len(records)\n",
    "test_num = int(test_ratio * total_num)\n",
    "train_num = total_num - test_num\n",
    "train_records = records[0:train_num]\n",
    "test_records = records[train_num:]"
   ]
  },
  {
   "cell_type": "code",
   "execution_count": 12,
   "metadata": {
    "collapsed": true,
    "deletable": true,
    "editable": true
   },
   "outputs": [],
   "source": [
    "# save to text file\n",
    "train_out_file = open(train_file_name, \"w\")\n",
    "for record in train_records:\n",
    "    train_out_file.write(record)\n",
    "train_out_file.close()\n",
    "test_out_file = open(test_file_name, \"w\")\n",
    "for record in test_records:\n",
    "    test_out_file.write(record)\n",
    "test_out_file.close()"
   ]
  },
  {
   "cell_type": "code",
   "execution_count": null,
   "metadata": {
    "collapsed": true
   },
   "outputs": [],
   "source": []
  }
 ],
 "metadata": {
  "kernelspec": {
   "display_name": "Python 3",
   "language": "python",
   "name": "python3"
  },
  "language_info": {
   "codemirror_mode": {
    "name": "ipython",
    "version": 3
   },
   "file_extension": ".py",
   "mimetype": "text/x-python",
   "name": "python",
   "nbconvert_exporter": "python",
   "pygments_lexer": "ipython3",
   "version": "3.5.2"
  }
 },
 "nbformat": 4,
 "nbformat_minor": 1
}
