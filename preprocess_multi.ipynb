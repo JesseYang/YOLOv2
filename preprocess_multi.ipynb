{
 "cells": [
  {
   "cell_type": "code",
   "execution_count": 43,
   "metadata": {
    "collapsed": true
   },
   "outputs": [],
   "source": [
    "import os\n",
    "import xml.etree.ElementTree as ET \n",
    "import struct\n",
    "import numpy as np\n",
    "import cv2\n",
    "import random\n",
    "from IPython.core.debugger import Tracer\n",
    "from cfgs.config import cfg"
   ]
  },
  {
   "cell_type": "code",
   "execution_count": null,
   "metadata": {
    "collapsed": true
   },
   "outputs": [],
   "source": []
  },
  {
   "cell_type": "code",
   "execution_count": 44,

   "metadata": {
    "collapsed": false
   },
   "outputs": [],
   "source": [
    "def parse_xml(data_root,xml_file_path):\n",
    "    if os.path.isfile(xml_file_path) == False:\n",
    "        return [],[]\n",
    "    tree = ET.parse(xml_file_path)\n",
    "    root = tree.getroot()\n",
    "    \n",
    "    image_paths = []\n",
    "    labels = []\n",
    "\n",
    "    images = root.find(\"images\")\n",
    "    images = images.findall(\"image\")\n",
    "    \n",
    "    for image in images:\n",
    "        image_name = image.get(\"file\").split('\\\\')[-1]\n",
    "        image_path = os.path.join(data_root,image_name)\n",
    "#         print(image_path)\n",
    "        cur_img = cv2.imread(image_path)\n",
    "        if cur_img is None:\n",
    "            print(\"image no size:\" + image_path)\n",
    "            continue\n",
    "        img_height,img_width,img_channel= cur_img.shape\n",
    "        \n",
    "        image_labels = []\n",
    "        boxes = image.findall(\"box\")\n",
    "        if len(boxes) == 0:\n",
    "            print(\"image no boxes:\" + image_path)\n",
    "            continue\n",
    "        for box in boxes:\n",
    "            top = int(box.get(\"top\"))\n",
    "            left = int(box.get(\"left\"))\n",
    "            width = int(box.get(\"width\"))\n",
    "            height = int(box.get(\"height\"))\n",
    "            \n",
    "            xmin = np.max([left,0])\n",
    "            xmax = np.min([left + width,img_width])\n",
    "            ymin = np.max([0,top])\n",
    "            ymax = np.min([top + height,img_height])\n",
    "            \n",
    "            image_labels.append([xmin,ymin,xmax,ymax,0])\n",
    "\n",
    "        if len(image_labels) == 0:\n",
    "            continue\n",
    "        image_paths.append(os.path.join(data_root,image_name))\n",
    "        labels.append(image_labels)\n",
    "#     print(len(image_paths))\n",
    "#     print(len(labels))\n",
    "    return image_paths,labels"
   ]
  },
  {
   "cell_type": "code",
   "execution_count": 45,
   "metadata": {
    "collapsed": false
   },
   "outputs": [],
   "source": [
    "data_dirs = os.listdir(cfg.ROOT_DATA_DIR)"
   ]
  },
  {
   "cell_type": "code",
   "execution_count": 46,
   "metadata": {
    "scrolled": false
   },
   "outputs": [],
   "source": [
    "image_paths = []\n",
    "labels = []\n",
    "for data_dir in data_dirs:\n",
    "    if data_dir.endswith(\"_crop\") == True:\n",
    "        continue\n",
    "    data_dir_path_ = os.path.join(cfg.ROOT_DATA_DIR,data_dir)\n",
    "    if os.path.isdir(data_dir_path_) == False:\n",
    "        continue\n",
    "    dir_item = os.listdir(data_dir_path_)   \n",
    "    for dir_ in dir_item:\n",
    "        data_dir_paths = os.path.join(data_dir_path_,dir_)\n",
    "        if os.path.isdir(data_dir_paths) == False:\n",
    "            continue\n",
    "        class_dirs = os.listdir(data_dir_paths)\n",
    "        for class_dir in (class_dirs):\n",
    "            class_path = os.path.join(data_dir_paths,class_dir)\n",
    "            if os.path.isdir(class_path) == False:\n",
    "                continue\n",
    "            img_dirs = os.listdir(class_path)\n",
    "            for img_dir in img_dirs:\n",
    "                if not img_dir.endswith('xml'):\n",
    "                    img_xmlpath = os.path.join(class_path,img_dir)\n",
    "                    label_path = img_xmlpath + '.xml'\n",
    "#                     print(img_xmlpath)\n",
    "#                     print(label_path)\n",
    "                    cur_path,cur_label = parse_xml(img_xmlpath, label_path)\n",
    "                    image_paths.extend(cur_path)         \n",
    "                    labels.extend(cur_label)\n",
    "    #                 print(image_paths)\n",
    "    #                 print(labels)\n",
    "#                     break\n",
    "#             break\n",
    "#         break\n",
    "#     break"
   ]
  },
  {
   "cell_type": "code",
   "execution_count": 47,
   "metadata": {
    "collapsed": false
   },
   "outputs": [
    {
     "name": "stdout",
     "output_type": "stream",
     "text": [
      "total size: 2997\n"
     ]
    }
   ],
   "source": [
    "#convert_to_string(imagePath,imageLabel)\n",
    "def convert_to_string(image_path,labels):\n",
    "    out_string = ''\n",
    "    out_string += image_path\n",
    "    for label in labels:\n",
    "        for i in label:\n",
    "            out_string += ' ' + str(i)\n",
    "    out_string += '\\n'\n",
    "#     print(out_string)\n",
    "    return out_string\n",
    "\n",
    "records = []\n",
    "for id, path in enumerate(image_paths):\n",
    "    label=labels[id]\n",
    "    records.append(convert_to_string(path,label))\n",
    "random.shuffle(records)\n",
    "print(\"total size:\",len(records))\n",
    "# print(records[0:5])"
   ]
  },
  {
   "cell_type": "code",
   "execution_count": 48,
   "metadata": {
    "collapsed": true
   },
   "outputs": [],
   "source": [
    "total_num = len(records)\n",
    "test_num = int(cfg.test_ratio*total_num)\n",
    "train_num = total_num - test_num\n",
    "train_records = records[0:train_num]\n",
    "tests_records = records[train_num:]"
   ]
  },
  {
   "cell_type": "code",
   "execution_count": 49,
   "metadata": {
    "collapsed": true
   },
   "outputs": [],
   "source": [
    "train_out_file = open(cfg.train_file_name,'w')\n",
    "for record in train_records:\n",
    "    train_out_file.write(record)\n",
    "train_out_file.close()\n",
    "\n",
    "\n",
    "test_out_file = open(cfg.test_file_name,'w')\n",
    "for record in tests_records:\n",
    "    test_out_file.write(record)\n",
    "test_out_file.close()"
   ]
  },
  {
   "cell_type": "code",
   "execution_count": null,
   "metadata": {
    "collapsed": true
   },
   "outputs": [],
   "source": []
  }
 ],
 "metadata": {
  "kernelspec": {
   "display_name": "Python 3",
   "language": "python",
   "name": "python3"
  },
  "language_info": {
   "codemirror_mode": {
    "name": "ipython",
    "version": 3
   },
   "file_extension": ".py",
   "mimetype": "text/x-python",
   "name": "python",
   "nbconvert_exporter": "python",
   "pygments_lexer": "ipython3",
   "version": "3.4.3"
  }
 },
 "nbformat": 4,
 "nbformat_minor": 2
}
