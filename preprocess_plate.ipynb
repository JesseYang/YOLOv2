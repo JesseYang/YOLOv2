{
 "cells": [
  {
   "cell_type": "code",
   "execution_count": 1,
   "metadata": {
    "collapsed": true
   },
   "outputs": [],
   "source": [
    "import os\n",
    "import xml.etree.ElementTree as ET \n",
    "import struct\n",
    "import numpy as np\n",
    "import cv2\n",
    "import random"
   ]
  },
  {
   "cell_type": "code",
   "execution_count": null,
   "metadata": {
    "collapsed": true
   },
   "outputs": [],
   "source": []
  },
  {
   "cell_type": "code",
   "execution_count": 2,
   "metadata": {
    "collapsed": true
   },
   "outputs": [],
   "source": [
    "ROOT_DATA_DIR = \"data_plate/plate\"\n",
    "XML_PATH = 'data_plate/plate.xml'\n",
    "test_ratio = 0.1\n",
    "train_file_name = \"plate_train.txt\"\n",
    "test_file_name = \"plate_test.txt\""
   ]
  },
  {
   "cell_type": "code",
   "execution_count": 3,
   "metadata": {
    "collapsed": false
   },
   "outputs": [],
   "source": [
    "\n",
    "\n",
    "def parse_xml(data_root,xml_file_path):\n",
    "    if os.path.isfile(xml_file_path) == False:\n",
    "        return [],[]\n",
    "    tree = ET.parse(xml_file_path)\n",
    "    root = tree.getroot()\n",
    "    \n",
    "    image_paths = []\n",
    "    labels = []\n",
    "\n",
    "    images = root.find(\"images\")\n",
    "    images = images.findall(\"image\")\n",
    "    \n",
    "    for image in images:\n",
    "        image_name = image.get(\"file\").split('\\\\')[-1]\n",
    "        image_path = os.path.join(data_root,image_name)\n",
    "#         print(image_path)\n",
    "        cur_img = cv2.imread(image_path)\n",
    "        if cur_img is None:\n",
    "            print(\"file no size:\" + image_path)\n",
    "            continue\n",
    "        img_height,img_width,img_channel= cur_img.shape\n",
    "        \n",
    "        image_labels = []\n",
    "        boxes = image.findall(\"box\")\n",
    "        if len(boxes) == 0:\n",
    "            print(\"file no boxes:\" + image_path)\n",
    "            continue\n",
    "        for box in boxes:\n",
    "            top = int(box.get(\"top\"))\n",
    "            left = int(box.get(\"left\"))\n",
    "            width = int(box.get(\"width\"))\n",
    "            height = int(box.get(\"height\"))\n",
    "            \n",
    "            xmin = np.max([left,0])\n",
    "            xmax = np.min([left + width,img_width])\n",
    "            ymin = np.max([0,top])\n",
    "            ymax = np.min([top + height,img_height])\n",
    "            \n",
    "            image_labels.append([xmin,ymin,xmax,ymax,0])\n",
    "\n",
    "        if len(image_labels) == 0:\n",
    "            continue\n",
    "        image_paths.append(os.path.join(data_root,image_name))\n",
    "        labels.append(image_labels)\n",
    "    print(len(image_paths))\n",
    "    print(len(labels))\n",
    "    return image_paths,labels"
   ]
  },
  {
   "cell_type": "code",
   "execution_count": 4,
   "metadata": {
    "collapsed": false,
    "scrolled": false
   },
   "outputs": [
    {
     "name": "stdout",
     "output_type": "stream",
     "text": [
      "file no boxes:data_plate/plate/38371fab-82af-46d0-bff3-0642a0bd2ebe.jpg\n",
      "file no boxes:data_plate/plate/3a268d59-1765-4b16-a252-dbe12d1481ba.jpg\n",
      "file no boxes:data_plate/plate/4225970d-5ef9-40f4-86e6-5202eec2bf02.jpg\n",
      "file no boxes:data_plate/plate/54f3d3b4-cf33-4f95-b228-4376b2b667f8.jpg\n",
      "file no boxes:data_plate/plate/57f63c97-7bc4-4f7c-a8d2-9f4e2821d830.jpg\n",
      "file no boxes:data_plate/plate/66446799-16d7-44f7-b33b-2e6eda9a22a9.jpg\n",
      "file no boxes:data_plate/plate/6aa6591f-cbc5-4e7e-94a9-e56bb61ae97e.jpg\n",
      "file no boxes:data_plate/plate/77fd880e-65dd-41dd-b920-4b34d6b105f2.jpg\n",
      "file no boxes:data_plate/plate/79ef1f67-9263-4f08-9cd3-c269f03d7d42.jpg\n",
      "file no boxes:data_plate/plate/7e699be1-bd30-432a-9f31-76d6c1e28a16.jpg\n",
      "file no boxes:data_plate/plate/8322de31-2f51-436e-828c-47cfcb48d5c6.jpg\n",
      "file no boxes:data_plate/plate/881725ca-47a7-4ef8-b4b0-d4a3f4089e8e.jpg\n",
      "file no boxes:data_plate/plate/8c2e7cfd-2742-4ae5-afb0-8348e2c1fe90.jpg\n",
      "file no boxes:data_plate/plate/b3cd65f8-20a2-4e27-9bd2-616c6f1c57b5.jpg\n",
      "file no boxes:data_plate/plate/ba97be43-61cd-4429-bb49-318a06c86e38.jpg\n",
      "file no boxes:data_plate/plate/c6790b7b-678b-4c73-a77c-f92e1bb449cd.jpg\n",
      "file no boxes:data_plate/plate/ca84e220-a5d2-43fd-9c76-5d9216f5efa9.jpg\n",
      "file no boxes:data_plate/plate/ed69d1fd-2ea5-4b5f-8c8b-cd727fadfd39.jpg\n",
      "file no boxes:data_plate/plate/f7bcafc0-982f-4e80-a9a8-06a6a7bd1350.jpg\n",
      "1554\n",
      "1554\n"
     ]
    }
   ],
   "source": [
    "image_paths,labels = parse_xml(ROOT_DATA_DIR,XML_PATH)\n",
    "#convert_to_string(imagePath,imageLabel)"
   ]
  },
  {
   "cell_type": "code",
   "execution_count": 5,
   "metadata": {
    "collapsed": false
   },
   "outputs": [
    {
     "name": "stdout",
     "output_type": "stream",
     "text": [
      "1554\n",
      "['data_plate/plate/caa1899e-8ffc-4fbe-99c5-496f1ea4d28f.jpg 35 73 67 86 0\\n', 'data_plate/plate/d2d33e20-008a-448a-8abc-18cef5cc62de.jpg 378 93 444 151 0\\n', 'data_plate/plate/86995b54-27d8-45dc-9b22-aa2a7b2dbd71.jpg 40 80 84 96 0\\n', 'data_plate/plate/23886977-5fd5-4f76-8303-1eef2ac70831.jpg 48 156 99 177 0\\n', 'data_plate/plate/64594681-6f40-4917-97c7-5180fe37d93a.jpg 48 87 84 111 0\\n']\n"
     ]
    }
   ],
   "source": [
    "def convert_to_string(image_path,labels):\n",
    "    out_string = ''\n",
    "    out_string += image_path\n",
    "    for label in labels:\n",
    "        for i in label:\n",
    "            out_string += ' ' + str(i)\n",
    "    out_string += '\\n'\n",
    "#     print(out_string)\n",
    "    return out_string\n",
    "\n",
    "records = []\n",
    "for id, path in enumerate(image_paths):\n",
    "    label=labels[id]\n",
    "    records.append(convert_to_string(path,label))\n",
    "random.shuffle(records)\n",
    "print(len(records))\n",
    "print(records[0:5])"
   ]
  },
  {
   "cell_type": "code",
   "execution_count": 6,
   "metadata": {
    "collapsed": true
   },
   "outputs": [],
   "source": [
    "total_num = len(records)\n",
    "test_num = int(test_ratio*total_num)\n",
    "train_num = total_num - test_num\n",
    "train_records = records[0:train_num]\n",
    "tests_records = records[train_num:]"
   ]
  },
  {
   "cell_type": "code",
   "execution_count": 7,
   "metadata": {
    "collapsed": true
   },
   "outputs": [],
   "source": [
    "train_out_file = open(train_file_name,'w')\n",
    "for record in train_records:\n",
    "    train_out_file.write(record)\n",
    "train_out_file.close()\n",
    "\n",
    "\n",
    "test_out_file = open(test_file_name,'w')\n",
    "for record in tests_records:\n",
    "    test_out_file.write(record)\n",
    "test_out_file.close()"
   ]
  },
  {
   "cell_type": "code",
   "execution_count": null,
   "metadata": {
    "collapsed": true
   },
   "outputs": [],
   "source": []
  }
 ],
 "metadata": {
  "kernelspec": {
   "display_name": "Python 3",
   "language": "python",
   "name": "python3"
  },
  "language_info": {
   "codemirror_mode": {
    "name": "ipython",
    "version": 3
   },
   "file_extension": ".py",
   "mimetype": "text/x-python",
   "name": "python",
   "nbconvert_exporter": "python",
   "pygments_lexer": "ipython3",
   "version": "3.6.0"
  }
 },
 "nbformat": 4,
 "nbformat_minor": 2
}
