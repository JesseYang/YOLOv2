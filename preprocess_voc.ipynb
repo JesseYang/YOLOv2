{
 "cells": [
  {
   "cell_type": "code",
   "execution_count": 1,
   "metadata": {
    "collapsed": true
   },
   "outputs": [],
   "source": [
    "import os\n",
    "import xml.etree.ElementTree as ET \n",
    "import struct\n",
    "import numpy as np\n",
    "from IPython.core.debugger import Tracer"
   ]
  },
  {
   "cell_type": "code",
   "execution_count": 2,
   "metadata": {
    "collapsed": true
   },
   "outputs": [],
   "source": [
    "classes_name =  [\"aeroplane\", \"bicycle\", \"bird\", \"boat\", \"bottle\", \"bus\", \"car\", \"cat\", \"chair\", \"cow\", \"diningtable\", \"dog\", \"horse\", \"motorbike\", \"person\", \"pottedplant\", \"sheep\", \"sofa\", \"train\",\"tvmonitor\"]\n",
    "\n",
    "classes_num = {'aeroplane': 0, 'bicycle': 1, 'bird': 2, 'boat': 3, 'bottle': 4, 'bus': 5,\n",
    "    'car': 6, 'cat': 7, 'chair': 8, 'cow': 9, 'diningtable': 10, 'dog': 11,\n",
    "    'horse': 12, 'motorbike': 13, 'person': 14, 'pottedplant': 15, 'sheep': 16,\n",
    "    'sofa': 17, 'train': 18, 'tvmonitor': 19}"
   ]
  },
  {
   "cell_type": "code",
   "execution_count": null,
   "metadata": {
    "collapsed": true
   },
   "outputs": [],
   "source": []
  },
  {
   "cell_type": "code",
   "execution_count": 3,
   "metadata": {
    "collapsed": true
   },
   "outputs": [],
   "source": [
    "DATA_PATH_2007 = '../../Datasets/voc/VOCdevkit/VOC2007'\n",
    "DATA_PATH_2012 = '../../Datasets/voc/VOCdevkit/VOC2012'"
   ]
  },
  {
   "cell_type": "code",
   "execution_count": null,
   "metadata": {
    "collapsed": true
   },
   "outputs": [],
   "source": []
  },
  {
   "cell_type": "code",
   "execution_count": 4,
   "metadata": {},
   "outputs": [],
   "source": [
    "def parse_xml(data_path, xml_file, include_diff=True):\n",
    "    \"\"\"parse xml_file\n",
    "    Args:\n",
    "        xml_file: the input xml file path\n",
    "    Returns:\n",
    "        image_path: string\n",
    "        labels: list of [xmin, ymin, xmax, ymax, class]\n",
    "    \"\"\"\n",
    "    tree = ET.parse(xml_file)\n",
    "    root = tree.getroot()\n",
    "    image_path = ''\n",
    "    labels = []\n",
    "\n",
    "    for item in root:\n",
    "        if item.tag == 'filename':\n",
    "            image_path = os.path.join(data_path, 'JPEGImages', item.text)\n",
    "        elif item.tag == 'object':\n",
    "            for sub_item in item:\n",
    "                if sub_item.tag == 'difficult':\n",
    "                    diff = sub_item.text\n",
    "                if sub_item.tag == 'name':\n",
    "                    obj_name = sub_item.text\n",
    "                if sub_item.tag == 'bndbox':\n",
    "                    for coord_item in sub_item:\n",
    "                        if coord_item.tag == 'xmin':\n",
    "                            xmin = coord_item.text\n",
    "                        if coord_item.tag == 'xmax':\n",
    "                            xmax = coord_item.text\n",
    "                        if coord_item.tag == 'ymin':\n",
    "                            ymin = coord_item.text\n",
    "                        if coord_item.tag == 'ymax':\n",
    "                            ymax = coord_item.text\n",
    "            if int(diff) == 1 and include_diff == False:\n",
    "                continue\n",
    "            obj_num = classes_num[obj_name]\n",
    "            labels.append([xmin, ymin, xmax, ymax, obj_num])\n",
    "    return image_path, labels"
   ]
  },
  {
   "cell_type": "code",
   "execution_count": null,
   "metadata": {
    "collapsed": true
   },
   "outputs": [],
   "source": []
  },
  {
   "cell_type": "code",
   "execution_count": 5,
   "metadata": {
    "collapsed": true
   },
   "outputs": [],
   "source": [
    "def convert_to_string(image_path, labels):\n",
    "    \"\"\"convert image_path, lables to string \n",
    "    Returns:\n",
    "    string \n",
    "    \"\"\"\n",
    "    out_string = ''\n",
    "    out_string += image_path\n",
    "    for label in labels:\n",
    "        for i in label:\n",
    "            out_string += ' ' + str(i)\n",
    "    out_string += '\\n'\n",
    "    return out_string"
   ]
  },
  {
   "cell_type": "code",
   "execution_count": null,
   "metadata": {
    "collapsed": true
   },
   "outputs": [],
   "source": []
  },
  {
   "cell_type": "code",
   "execution_count": 6,
   "metadata": {
    "collapsed": true
   },
   "outputs": [],
   "source": [
    "def generate_xml_list(data_path, data_type):\n",
    "    train_file = data_path + '/ImageSets/Main/' + data_type + '.txt'\n",
    "    with open(train_file) as f:\n",
    "        xml_list = f.readlines()\n",
    "    xml_list = [data_path + \"/Annotations/\" + x.strip() + \".xml\" for x in xml_list]\n",
    "    return xml_list"
   ]
  },
  {
   "cell_type": "code",
   "execution_count": null,
   "metadata": {
    "collapsed": true
   },
   "outputs": [],
   "source": []
  },
  {
   "cell_type": "code",
   "execution_count": null,
   "metadata": {
    "collapsed": true
   },
   "outputs": [],
   "source": []
  },
  {
   "cell_type": "code",
   "execution_count": 7,
   "metadata": {},
   "outputs": [],
   "source": [
    "train_xml_list_2007 = generate_xml_list(DATA_PATH_2007, 'train')\n",
    "val_xml_list_2007 = generate_xml_list(DATA_PATH_2007, 'val')\n",
    "test_xml_list_2007 = generate_xml_list(DATA_PATH_2007, 'test')\n",
    "train_xml_list_2012 = generate_xml_list(DATA_PATH_2012, 'train')\n",
    "val_xml_list_2012 = generate_xml_list(DATA_PATH_2012, 'val')"
   ]
  },
  {
   "cell_type": "code",
   "execution_count": null,
   "metadata": {
    "collapsed": true
   },
   "outputs": [],
   "source": []
  },
  {
   "cell_type": "code",
   "execution_count": 8,
   "metadata": {},
   "outputs": [],
   "source": [
    "def process_xml_list(data_path, xml_list, out_path, include_diff=True):\n",
    "    out_file = open(out_path, 'w')\n",
    "    \n",
    "    for xml in xml_list:\n",
    "        try:\n",
    "            image_path, labels = parse_xml(data_path, xml, include_diff)\n",
    "            if len(labels) > 0:\n",
    "                record = convert_to_string(image_path, labels)\n",
    "                out_file.write(record)\n",
    "        except Exception:\n",
    "            pass\n",
    "    out_file.close()"
   ]
  },
  {
   "cell_type": "code",
   "execution_count": 9,
   "metadata": {},
   "outputs": [],
   "source": [
    "process_xml_list(DATA_PATH_2007, train_xml_list_2007, 'voc_2007_train.txt', include_diff=True)\n",
    "process_xml_list(DATA_PATH_2007, val_xml_list_2007, 'voc_2007_val.txt', include_diff=True)\n",
    "process_xml_list(DATA_PATH_2007, test_xml_list_2007, 'voc_2007_test.txt', include_diff=True)\n",
    "process_xml_list(DATA_PATH_2012, train_xml_list_2012, 'voc_2012_train.txt', include_diff=True)\n",
    "process_xml_list(DATA_PATH_2012, val_xml_list_2012, 'voc_2012_val.txt', include_diff=True)"
   ]
  },
  {
   "cell_type": "code",
   "execution_count": 10,
   "metadata": {},
   "outputs": [],
   "source": [
    "# process_xml_list(DATA_PATH_2007, test_xml_list_2007, 'voc_2007_test.txt', include_diff=True)\n",
    "process_xml_list(DATA_PATH_2007, test_xml_list_2007, 'voc_2007_test_without_diff.txt', include_diff=False)"
   ]
  },
  {
   "cell_type": "code",
   "execution_count": null,
   "metadata": {
    "collapsed": true
   },
   "outputs": [],
   "source": []
  },
  {
   "cell_type": "code",
   "execution_count": null,
   "metadata": {
    "collapsed": true
   },
   "outputs": [],
   "source": []
  },
  {
   "cell_type": "code",
   "execution_count": null,
   "metadata": {
    "collapsed": true
   },
   "outputs": [],
   "source": []
  },
  {
   "cell_type": "code",
   "execution_count": null,
   "metadata": {
    "collapsed": true
   },
   "outputs": [],
   "source": []
  }
 ],
 "metadata": {
  "kernelspec": {
   "display_name": "Python 3",
   "language": "python",
   "name": "python3"
  },
  "language_info": {
   "codemirror_mode": {
    "name": "ipython",
    "version": 3
   },
   "file_extension": ".py",
   "mimetype": "text/x-python",
   "name": "python",
   "nbconvert_exporter": "python",
   "pygments_lexer": "ipython3",
   "version": "3.5.2"
  }
 },
 "nbformat": 4,
 "nbformat_minor": 1
}
