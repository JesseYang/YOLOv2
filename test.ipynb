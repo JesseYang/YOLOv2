{
 "cells": [
  {
   "cell_type": "code",
   "execution_count": 1,
   "metadata": {
    "collapsed": true
   },
   "outputs": [],
   "source": [
    "import numpy as np"
   ]
  },
  {
   "cell_type": "code",
   "execution_count": 1,
   "metadata": {
    "collapsed": true
   },
   "outputs": [],
   "source": [
    "batch_size = 2\n",
    "\n",
    "anchors = [[5.375, 5.03125], [5.40625, 4.6875], [2.96875, 2.53125], [2.59375, 2.78125], [1.9375, 3.25]]\n",
    "grid_h = 13\n",
    "grid_w = 13\n",
    "n_boxes = 5\n",
    "n_classes = 10\n",
    "thresh = 0.6"
   ]
  },
  {
   "cell_type": "code",
   "execution_count": null,
   "metadata": {
    "collapsed": true
   },
   "outputs": [],
   "source": []
  },
  {
   "cell_type": "code",
   "execution_count": 28,
   "metadata": {
    "collapsed": false
   },
   "outputs": [],
   "source": [
    "x = np.zeros((batch_size, n_boxes, 1, grid_h, grid_w), dtype=np.float32)\n",
    "y = np.zeros((batch_size, n_boxes, 1, grid_h, grid_w), dtype=np.float32)\n",
    "w = np.zeros((batch_size, n_boxes, 1, grid_h, grid_w), dtype=np.float32)\n",
    "h = np.zeros((batch_size, n_boxes, 1, grid_h, grid_w), dtype=np.float32)\n",
    "conf = np.zeros((batch_size, n_boxes, 1, grid_h, grid_w), dtype=np.float32)\n",
    "prob = np.zeros((batch_size, n_boxes, n_classes, grid_h, grid_w), dtype=np.float32)"
   ]
  },
  {
   "cell_type": "code",
   "execution_count": null,
   "metadata": {
    "collapsed": true
   },
   "outputs": [],
   "source": []
  },
  {
   "cell_type": "code",
   "execution_count": null,
   "metadata": {
    "collapsed": true
   },
   "outputs": [],
   "source": [
    "tw = np.zeros(w.shape, dtype=np.float32)\n",
    "th = np.zeros(h.shape, dtype=np.float32)\n",
    "tx = np.tile(0.5, x.shape).astype(np.float32)\n",
    "ty = np.tile(0.5, y.shape).astype(np.float32)\n",
    "\n",
    "tprob = prob.data.copy()\n",
    "\n",
    "# box_learning_scale: batch_size x n_boxes x 1 x grid_h x grid_w\n",
    "box_learning_scale = np.tile(0, x.shape).astype(np.float32)"
   ]
  },
  {
   "cell_type": "code",
   "execution_count": null,
   "metadata": {
    "collapsed": true
   },
   "outputs": [],
   "source": []
  },
  {
   "cell_type": "code",
   "execution_count": 29,
   "metadata": {
    "collapsed": true
   },
   "outputs": [],
   "source": [
    "x_shift = np.broadcast_to(np.arange(grid_w, dtype=np.float32), x.shape[1:])\n",
    "y_shift = np.broadcast_to(np.arange(grid_h, dtype=np.float32).reshape(grid_h, 1), y.shape[1:])\n",
    "w_anchor = np.broadcast_to(np.reshape(np.array(anchors, dtype=np.float32)[:, 0], (n_boxes, 1, 1, 1)), w.shape[1:])\n",
    "h_anchor = np.broadcast_to(np.reshape(np.array(anchors, dtype=np.float32)[:, 1], (n_boxes, 1, 1, 1)), h.shape[1:])"
   ]
  },
  {
   "cell_type": "code",
   "execution_count": null,
   "metadata": {
    "collapsed": true
   },
   "outputs": [],
   "source": []
  },
  {
   "cell_type": "code",
   "execution_count": 35,
   "metadata": {
    "collapsed": false
   },
   "outputs": [
    {
     "data": {
      "text/plain": [
       "(5, 1, 13, 13)"
      ]
     },
     "execution_count": 35,
     "metadata": {},
     "output_type": "execute_result"
    }
   ],
   "source": [
    "x_shift.shape"
   ]
  },
  {
   "cell_type": "code",
   "execution_count": null,
   "metadata": {
    "collapsed": true
   },
   "outputs": [],
   "source": []
  },
  {
   "cell_type": "code",
   "execution_count": null,
   "metadata": {
    "collapsed": true
   },
   "outputs": [],
   "source": []
  },
  {
   "cell_type": "code",
   "execution_count": 30,
   "metadata": {
    "collapsed": false
   },
   "outputs": [],
   "source": [
    "best_ious = []\n",
    "\n",
    "for batch in range(batch_size):\n",
    "#     n_truth_boxes = len(t[batch])\n",
    "    # predicted x for center, normalized by image width\n",
    "    box_x = (x[batch] + x_shift) / grid_w\n",
    "    # predicted y for center, normalized by image height\n",
    "    box_y = (y[batch] + y_shift) / grid_h\n",
    "    # predicted width, normalized by image width\n",
    "    box_w = np.exp(w[batch]) * w_anchor / grid_w\n",
    "    # predicted height, normalized by image height\n",
    "    box_h = np.exp(h[batch]) * h_anchor / grid_h\n",
    "    \n",
    "#     ious = []\n",
    "#     for truth_index in range(n_truth_boxes):\n",
    "#         truth_box_x = Variable(np.broadcast_to(np.array(t[batch][truth_index][\"x\"], dtype=np.float32), box_x.shape))\n",
    "#         truth_box_y = Variable(np.broadcast_to(np.array(t[batch][truth_index][\"y\"], dtype=np.float32), box_y.shape))\n",
    "#         truth_box_w = Variable(np.broadcast_to(np.array(t[batch][truth_index][\"w\"], dtype=np.float32), box_w.shape))\n",
    "#         truth_box_h = Variable(np.broadcast_to(np.array(t[batch][truth_index][\"h\"], dtype=np.float32), box_h.shape))\n",
    "#         truth_box_x.to_gpu(), truth_box_y.to_gpu(), truth_box_w.to_gpu(), truth_box_h.to_gpu()\n",
    "#         ious.append(multi_box_iou(Box(box_x, box_y, box_w, box_h), Box(truth_box_x, truth_box_y, truth_box_w, truth_box_h)).data.get())  \n",
    "#     ious = np.array(ious)\n",
    "    \n",
    "    # ious should have shape with n_truth_boxes x n_boxes x 1 x grid_h x grid_w\n",
    "    \n",
    "#     best_ious.append(np.max(ious, axis=0))\n",
    "\n",
    "    # best_iou is append with n_boxse x 1 x grid_h x grid_w\n",
    "    # each element is the iou between one predicted box and the ground truth box with best iou\n",
    "\n",
    "\n",
    "# the best_ious should have shape of batch_size x n_boxes x 1 x grid_h x grid_w\n",
    "best_ious = np.array(best_ious)\n"
   ]
  },
  {
   "cell_type": "code",
   "execution_count": null,
   "metadata": {
    "collapsed": false
   },
   "outputs": [],
   "source": []
  },
  {
   "cell_type": "code",
   "execution_count": 2,
   "metadata": {
    "collapsed": false
   },
   "outputs": [
    {
     "ename": "NameError",
     "evalue": "name 'conf' is not defined",
     "output_type": "error",
     "traceback": [
      "\u001b[0;31m---------------------------------------------------------------------------\u001b[0m",
      "\u001b[0;31mNameError\u001b[0m                                 Traceback (most recent call last)",
      "\u001b[0;32m<ipython-input-2-2ee6d10012dc>\u001b[0m in \u001b[0;36m<module>\u001b[0;34m()\u001b[0m\n\u001b[0;32m----> 1\u001b[0;31m \u001b[0mtconf\u001b[0m\u001b[0;34m[\u001b[0m\u001b[0mbest_ious\u001b[0m \u001b[0;34m>\u001b[0m \u001b[0mthresh\u001b[0m\u001b[0;34m]\u001b[0m \u001b[0;34m=\u001b[0m \u001b[0mconf\u001b[0m\u001b[0;34m.\u001b[0m\u001b[0mdata\u001b[0m\u001b[0;34m.\u001b[0m\u001b[0mget\u001b[0m\u001b[0;34m(\u001b[0m\u001b[0;34m)\u001b[0m\u001b[0;34m[\u001b[0m\u001b[0mbest_ious\u001b[0m \u001b[0;34m>\u001b[0m \u001b[0mthresh\u001b[0m\u001b[0;34m]\u001b[0m\u001b[0;34m\u001b[0m\u001b[0m\n\u001b[0m\u001b[1;32m      2\u001b[0m \u001b[0mconf_learning_scale\u001b[0m\u001b[0;34m[\u001b[0m\u001b[0mbest_ious\u001b[0m \u001b[0;34m>\u001b[0m \u001b[0mthresh\u001b[0m\u001b[0;34m]\u001b[0m \u001b[0;34m=\u001b[0m \u001b[0;36m0\u001b[0m\u001b[0;34m\u001b[0m\u001b[0m\n",
      "\u001b[0;31mNameError\u001b[0m: name 'conf' is not defined"
     ]
    }
   ],
   "source": [
    "# 从预测的conf数据中只取iou达到阈值的部分，复制到tconf中\n",
    "# 将iou超过阈值的conf_learning_scale\n",
    "tconf[best_ious > thresh] = conf.data.get()[best_ious > thresh]\n",
    "conf_learning_scale[best_ious > thresh] = 0"
   ]
  },
  {
   "cell_type": "code",
   "execution_count": null,
   "metadata": {
    "collapsed": true
   },
   "outputs": [],
   "source": []
  },
  {
   "cell_type": "code",
   "execution_count": null,
   "metadata": {
    "collapsed": true
   },
   "outputs": [],
   "source": [
    "# abs_anchors is the anchor size normalized by image size\n",
    "abs_anchors = anchors / np.array([grid_w, grid_h])"
   ]
  },
  {
   "cell_type": "code",
   "execution_count": null,
   "metadata": {
    "collapsed": true
   },
   "outputs": [],
   "source": []
  },
  {
   "cell_type": "code",
   "execution_count": 1,
   "metadata": {
    "collapsed": false
   },
   "outputs": [
    {
     "ename": "NameError",
     "evalue": "name 'batch_size' is not defined",
     "output_type": "error",
     "traceback": [
      "\u001b[0;31m---------------------------------------------------------------------------\u001b[0m",
      "\u001b[0;31mNameError\u001b[0m                                 Traceback (most recent call last)",
      "\u001b[0;32m<ipython-input-1-a803e18e4c71>\u001b[0m in \u001b[0;36m<module>\u001b[0;34m()\u001b[0m\n\u001b[0;32m----> 1\u001b[0;31m \u001b[0;32mfor\u001b[0m \u001b[0mbatch\u001b[0m \u001b[0;32min\u001b[0m \u001b[0mrange\u001b[0m\u001b[0;34m(\u001b[0m\u001b[0mbatch_size\u001b[0m\u001b[0;34m)\u001b[0m\u001b[0;34m:\u001b[0m\u001b[0;34m\u001b[0m\u001b[0m\n\u001b[0m\u001b[1;32m      2\u001b[0m     \u001b[0;32mfor\u001b[0m \u001b[0mtruth_box\u001b[0m \u001b[0;32min\u001b[0m \u001b[0mt\u001b[0m\u001b[0;34m[\u001b[0m\u001b[0mbatch\u001b[0m\u001b[0;34m]\u001b[0m\u001b[0;34m:\u001b[0m\u001b[0;34m\u001b[0m\u001b[0m\n\u001b[1;32m      3\u001b[0m         \u001b[0;31m# 针对t[batch]这个样本（图像）中的没一个真实box，找到和其相匹配的anchor box，记录为truth_n\u001b[0m\u001b[0;34m\u001b[0m\u001b[0;34m\u001b[0m\u001b[0m\n\u001b[1;32m      4\u001b[0m \u001b[0;34m\u001b[0m\u001b[0m\n\u001b[1;32m      5\u001b[0m         \u001b[0;31m# truth_w和truth_h为这个真实box的center坐标，是以cell为单位并且取整了的\u001b[0m\u001b[0;34m\u001b[0m\u001b[0;34m\u001b[0m\u001b[0m\n",
      "\u001b[0;31mNameError\u001b[0m: name 'batch_size' is not defined"
     ]
    }
   ],
   "source": [
    "for batch in range(batch_size):\n",
    "    for truth_box in t[batch]:\n",
    "        # 针对t[batch]这个样本（图像）中的没一个真实box，找到和其相匹配的anchor box，记录为truth_n\n",
    "        \n",
    "        # truth_w和truth_h为这个真实box的center坐标，是以cell为单位并且取整了的\n",
    "        # 因此truth_w和truth_h表示了那个位置的cell应来负责预测这个box\n",
    "        truth_w = int(float(truth_box[\"x\"]) * grid_w)\n",
    "        truth_h = int(float(truth_box[\"y\"]) * grid_h)\n",
    "        truth_n = 0\n",
    "        best_iou = 0.0\n",
    "        for anchor_index, abs_anchor in enumerate(abs_anchors):\n",
    "            iou = box_iou(Box(0, 0, float(truth_box[\"w\"]), float(truth_box[\"h\"])), Box(0, 0, abs_anchor[0], abs_anchor[1]))\n",
    "            if best_iou < iou:\n",
    "                best_iou = iou\n",
    "                truth_n = anchor_index\n",
    "        \n",
    "        # 和真实box之间iou最大的那个anchor对应的预测的box负责预测这个真实box，\n",
    "        box_learning_scale[batch, truth_n, :, truth_h, truth_w] = 1.0\n",
    "        \n",
    "        # tx/ty是真实box的中心坐标，是由负责预测这个box的cell归一化得到的\n",
    "        tx[batch, truth_n, :, truth_h, truth_w] = float(truth_box[\"x\"]) * grid_w - truth_w \n",
    "        ty[batch, truth_n, :, truth_h, truth_w] = float(truth_box[\"y\"]) * grid_h - truth_h\n",
    "        \n",
    "        # tw/th是按照论文中给出的公式，计算的真实box对应的width和height的预测\n",
    "        # 取log的效果是越大的box绝对误差的影响越小\n",
    "        tw[batch, truth_n, :, truth_h, truth_w] = np.log(float(truth_box[\"w\"]) / abs_anchors[truth_n][0])\n",
    "        th[batch, truth_n, :, truth_h, truth_w] = np.log(float(truth_box[\"h\"]) / abs_anchors[truth_n][1])\n",
    "        \n",
    "        # 设置真实的tprob，注意tprob是从预测的prob中复制过来的，这里只设置了truth_n、truth_h以及truth_w对应的tprob\n",
    "        # 对于其余的tprob不进行设置，因此和prob之间应不产生任何距离\n",
    "        # 也可以考虑设置一个prob_learning_scale，只对有truth box的部分设置为1,其余为0\n",
    "        tprob[batch, truth_n, :, truth_h, truth_w] = 0\n",
    "        tprob[batch, truth_n, int(truth_box[\"label\"]), truth_h, truth_w] = 1\n",
    "\n",
    "        \n",
    "        full_truth_box = Box(float(truth_box[\"x\"]), float(truth_box[\"y\"]), float(truth_box[\"w\"]), float(truth_box[\"h\"]))\n",
    "        predicted_box = Box(\n",
    "            (x[batch][truth_n][0][truth_h][truth_w].data.get() + truth_w) / grid_w, \n",
    "            (y[batch][truth_n][0][truth_h][truth_w].data.get() + truth_h) / grid_h,\n",
    "            np.exp(w[batch][truth_n][0][truth_h][truth_w].data.get()) * abs_anchors[truth_n][0],\n",
    "            np.exp(h[batch][truth_n][0][truth_h][truth_w].data.get()) * abs_anchors[truth_n][1]\n",
    "        )\n",
    "        predicted_iou = box_iou(full_truth_box, predicted_box)\n",
    "        tconf[batch, truth_n, :, truth_h, truth_w] = predicted_iou\n",
    "        conf_learning_scale[batch, truth_n, :, truth_h, truth_w] = 10.0"
   ]
  },
  {
   "cell_type": "code",
   "execution_count": null,
   "metadata": {
    "collapsed": true
   },
   "outputs": [],
   "source": []
  },
  {
   "cell_type": "code",
   "execution_count": null,
   "metadata": {
    "collapsed": true
   },
   "outputs": [],
   "source": []
  },
  {
   "cell_type": "code",
   "execution_count": 37,
   "metadata": {
    "collapsed": false
   },
   "outputs": [],
   "source": [
    "r = np.random.rand(3,2)"
   ]
  },
  {
   "cell_type": "code",
   "execution_count": 39,
   "metadata": {
    "collapsed": false
   },
   "outputs": [
    {
     "data": {
      "text/plain": [
       "(3, 2)"
      ]
     },
     "execution_count": 39,
     "metadata": {},
     "output_type": "execute_result"
    }
   ],
   "source": [
    "r.shape"
   ]
  },
  {
   "cell_type": "code",
   "execution_count": 40,
   "metadata": {
    "collapsed": false
   },
   "outputs": [],
   "source": [
    "rr = np.max(r, axis=0)"
   ]
  },
  {
   "cell_type": "code",
   "execution_count": 41,
   "metadata": {
    "collapsed": false
   },
   "outputs": [
    {
     "data": {
      "text/plain": [
       "(2,)"
      ]
     },
     "execution_count": 41,
     "metadata": {},
     "output_type": "execute_result"
    }
   ],
   "source": [
    "rr.shape"
   ]
  },
  {
   "cell_type": "code",
   "execution_count": null,
   "metadata": {
    "collapsed": true
   },
   "outputs": [],
   "source": []
  }
 ],
 "metadata": {
  "kernelspec": {
   "display_name": "Python 3",
   "language": "python",
   "name": "python3"
  },
  "language_info": {
   "codemirror_mode": {
    "name": "ipython",
    "version": 3
   },
   "file_extension": ".py",
   "mimetype": "text/x-python",
   "name": "python",
   "nbconvert_exporter": "python",
   "pygments_lexer": "ipython3",
   "version": "3.4.3"
  }
 },
 "nbformat": 4,
 "nbformat_minor": 1
}
